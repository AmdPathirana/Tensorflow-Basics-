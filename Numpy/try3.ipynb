{
 "cells": [
  {
   "cell_type": "code",
   "execution_count": 61,
   "id": "4b604540",
   "metadata": {},
   "outputs": [],
   "source": [
    "import numpy as np"
   ]
  },
  {
   "cell_type": "markdown",
   "id": "2e21255e",
   "metadata": {},
   "source": [
    "Covert array in to list"
   ]
  },
  {
   "cell_type": "code",
   "execution_count": 62,
   "id": "92c40d18",
   "metadata": {},
   "outputs": [],
   "source": [
    "list=[1,2,3,4,5,5]\n",
    "arr=np.array(list)"
   ]
  },
  {
   "cell_type": "code",
   "execution_count": 63,
   "id": "8428a147",
   "metadata": {},
   "outputs": [
    {
     "data": {
      "text/plain": [
       "numpy.ndarray"
      ]
     },
     "execution_count": 63,
     "metadata": {},
     "output_type": "execute_result"
    }
   ],
   "source": [
    "type(arr)"
   ]
  },
  {
   "cell_type": "markdown",
   "id": "115ca5c5",
   "metadata": {},
   "source": [
    "create an array"
   ]
  },
  {
   "cell_type": "code",
   "execution_count": 64,
   "id": "829d6c5b",
   "metadata": {},
   "outputs": [
    {
     "data": {
      "text/plain": [
       "array([ 0,  4,  8, 12, 16, 20, 24, 28, 32, 36, 40, 44, 48, 52, 56, 60, 64,\n",
       "       68, 72, 76, 80, 84, 88, 92, 96])"
      ]
     },
     "execution_count": 64,
     "metadata": {},
     "output_type": "execute_result"
    }
   ],
   "source": [
    "arr =np.arange(0,100,4)\n",
    "arr"
   ]
  },
  {
   "cell_type": "code",
   "execution_count": 65,
   "id": "6c9e1450",
   "metadata": {},
   "outputs": [
    {
     "data": {
      "text/plain": [
       "array([[0., 0., 0., 0., 0.],\n",
       "       [0., 0., 0., 0., 0.],\n",
       "       [0., 0., 0., 0., 0.],\n",
       "       [0., 0., 0., 0., 0.]])"
      ]
     },
     "execution_count": 65,
     "metadata": {},
     "output_type": "execute_result"
    }
   ],
   "source": [
    "arr_z=np.zeros((4,5))\n",
    "arr_z"
   ]
  },
  {
   "cell_type": "code",
   "execution_count": 66,
   "id": "ca38c9e8",
   "metadata": {},
   "outputs": [
    {
     "data": {
      "text/plain": [
       "array([0., 0., 0.])"
      ]
     },
     "execution_count": 66,
     "metadata": {},
     "output_type": "execute_result"
    }
   ],
   "source": [
    "arr_z2=np.zeros(3)\n",
    "arr_z2"
   ]
  },
  {
   "cell_type": "code",
   "execution_count": 81,
   "id": "38d053a1",
   "metadata": {},
   "outputs": [
    {
     "data": {
      "text/plain": [
       "array([20., 35., 50.])"
      ]
     },
     "execution_count": 81,
     "metadata": {},
     "output_type": "execute_result"
    }
   ],
   "source": [
    "linspace = np.linspace(20,50,3)\n",
    "linspace"
   ]
  },
  {
   "cell_type": "code",
   "execution_count": 94,
   "id": "44f0911f",
   "metadata": {},
   "outputs": [
    {
     "data": {
      "text/plain": [
       "array([840, 105, 818,  45, 832, 229, 297, 212, 658, 279, 552,  63, 251,\n",
       "       471, 232, 482,  66,  89, 510, 464, 258, 280, 513, 155, 602, 714,\n",
       "       617, 222, 109, 615, 762, 187, 120, 247, 627, 684, 778, 401, 498,\n",
       "       324,  52, 133, 432,  29, 697,  66, 205, 151, 511, 593, 752, 160,\n",
       "       722, 273, 365, 649, 709, 465, 471, 170, 651, 238, 580, 467, 162,\n",
       "       181,  21, 734, 297, 714, 848,   7, 503, 390, 192, 164, 181, 156,\n",
       "       789, 104, 760, 631,  57, 623,  24, 646, 756, 820, 526, 470, 219,\n",
       "       326, 270, 586, 492, 384, 171, 540, 169,  49])"
      ]
     },
     "execution_count": 94,
     "metadata": {},
     "output_type": "execute_result"
    }
   ],
   "source": [
    "\n",
    "ran_arr=np.random.randint(2,850,100)\n",
    "ran_arr"
   ]
  },
  {
   "cell_type": "code",
   "execution_count": 95,
   "id": "eb6f9e0e",
   "metadata": {},
   "outputs": [
    {
     "name": "stdout",
     "output_type": "stream",
     "text": [
      "[  7  21  24  29  45  49  52  57  63  66  66  89 104 105 109 120 133 151\n",
      " 155 156 160 162 164 169 170 171 181 181 187 192 205 212 219 222 229 232\n",
      " 238 247 251 258 270 273 279 280 297 297 324 326 365 384 390 401 432 464\n",
      " 465 467 470 471 471 482 492 498 503 510 511 513 526 540 552 580 586 593\n",
      " 602 615 617 623 627 631 646 649 651 658 684 697 709 714 714 722 734 752\n",
      " 756 760 762 778 789 818 820 832 840 848]\n"
     ]
    }
   ],
   "source": [
    "def insertionSort(ran_arr):\n",
    "    for i in range(len(ran_arr)-1):\n",
    "        if ran_arr[i]>ran_arr[i+1]:\n",
    "            for j in range(i+1, 0, -1):\n",
    "                if ran_arr[j]<ran_arr[j-1]:\n",
    "                    temp=ran_arr[j]\n",
    "                    ran_arr[j]=ran_arr[j-1]\n",
    "                    ran_arr[j-1]=temp\n",
    "    return ran_arr\n",
    "print(insertionSort(ran_arr))"
   ]
  },
  {
   "cell_type": "code",
   "execution_count": 96,
   "id": "7f648ba1",
   "metadata": {},
   "outputs": [
    {
     "name": "stdout",
     "output_type": "stream",
     "text": [
      "[  7  21  24  29  45  49  52  57  63  66  66  89 104 105 109 120 133 151\n",
      " 155 156 160 162 164 169 170 171 181 181 187 192 205 212 219 222 229 232\n",
      " 238 247 251 258 270 273 279 280 297 297 324 326 365 384 390 401 432 464\n",
      " 465 467 470 471 471 482 492 498 503 510 511 513 526 540 552 580 586 593\n",
      " 602 615 617 623 627 631 646 649 651 658 684 697 709 714 714 722 734 752\n",
      " 756 760 762 778 789 818 820 832 840 848]\n"
     ]
    }
   ],
   "source": [
    "print(insertionSort(ran_arr))"
   ]
  },
  {
   "cell_type": "code",
   "execution_count": 107,
   "id": "5a6976c0",
   "metadata": {},
   "outputs": [
    {
     "data": {
      "text/plain": [
       "array([[ 0,  1,  2,  3,  4,  5,  6,  7,  8,  9],\n",
       "       [10, 11, 12, 13, 14, 15, 16, 17, 18, 19],\n",
       "       [20, 21, 22, 23, 24, 25, 26, 27, 28, 29],\n",
       "       [30, 31, 32, 33, 34, 35, 36, 37, 38, 39],\n",
       "       [40, 41, 42, 43, 44, 45, 46, 47, 48, 49],\n",
       "       [50, 51, 52, 53, 54, 55, 56, 57, 58, 59],\n",
       "       [60, 61, 62, 63, 64, 65, 66, 67, 68, 69],\n",
       "       [70, 71, 72, 73, 74, 75, 76, 77, 78, 79],\n",
       "       [80, 81, 82, 83, 84, 85, 86, 87, 88, 89],\n",
       "       [90, 91, 92, 93, 94, 95, 96, 97, 98, 99]])"
      ]
     },
     "execution_count": 107,
     "metadata": {},
     "output_type": "execute_result"
    }
   ],
   "source": [
    "# create array 0-100\n",
    "arr=np.arange(0,100)\n",
    "arr=arr.reshape(10,10)\n",
    "arr"
   ]
  },
  {
   "cell_type": "code",
   "execution_count": 106,
   "id": "871115ce",
   "metadata": {},
   "outputs": [
    {
     "data": {
      "text/plain": [
       "array([10, 11, 12, 13, 14, 15, 16, 17, 18, 19])"
      ]
     },
     "execution_count": 106,
     "metadata": {},
     "output_type": "execute_result"
    }
   ],
   "source": [
    "arr[1,:]"
   ]
  },
  {
   "cell_type": "code",
   "execution_count": 108,
   "id": "ed8c6400",
   "metadata": {},
   "outputs": [
    {
     "data": {
      "text/plain": [
       "array([90, 91, 92, 93, 94, 95, 96, 97, 98, 99])"
      ]
     },
     "execution_count": 108,
     "metadata": {},
     "output_type": "execute_result"
    }
   ],
   "source": [
    "arr[9,:]"
   ]
  },
  {
   "cell_type": "code",
   "execution_count": 110,
   "id": "dba261c3",
   "metadata": {},
   "outputs": [
    {
     "data": {
      "text/plain": [
       "array([ 5, 15, 25, 35, 45, 55, 65, 75, 85, 95])"
      ]
     },
     "execution_count": 110,
     "metadata": {},
     "output_type": "execute_result"
    }
   ],
   "source": [
    "arr[:,5]"
   ]
  },
  {
   "cell_type": "code",
   "execution_count": 114,
   "id": "c8a4f06f",
   "metadata": {},
   "outputs": [
    {
     "data": {
      "text/plain": [
       "array([50, 51, 52, 53, 54, 55, 56, 57, 58, 59])"
      ]
     },
     "execution_count": 114,
     "metadata": {},
     "output_type": "execute_result"
    }
   ],
   "source": [
    "arr[5,:]"
   ]
  },
  {
   "cell_type": "code",
   "execution_count": 126,
   "id": "85e6b838",
   "metadata": {},
   "outputs": [
    {
     "data": {
      "text/plain": [
       "array([[40, 39, 34, 35, 40, 46, 39, 21, 24, 30],\n",
       "       [23, 23, 28, 27, 38, 32, 48, 43, 26, 35],\n",
       "       [36, 38, 22, 21, 32, 32, 47, 24, 39, 47],\n",
       "       [45, 20, 44, 22, 23, 23, 47, 45, 43, 32],\n",
       "       [31, 49, 31, 21, 43, 43, 46, 43, 21, 31],\n",
       "       [26, 37, 38, 26, 45, 48, 35, 29, 38, 32],\n",
       "       [31, 49, 30, 24, 39, 28, 23, 44, 21, 25],\n",
       "       [36, 37, 20, 49, 45, 49, 35, 31, 48, 30],\n",
       "       [33, 48, 37, 42, 43, 48, 27, 21, 37, 24],\n",
       "       [31, 47, 37, 36, 41, 30, 33, 47, 28, 34]])"
      ]
     },
     "execution_count": 126,
     "metadata": {},
     "output_type": "execute_result"
    }
   ],
   "source": [
    "a=np.random.randint(20,50,(10,10))\n",
    "a"
   ]
  },
  {
   "cell_type": "code",
   "execution_count": 127,
   "id": "6cfae45e",
   "metadata": {},
   "outputs": [
    {
     "data": {
      "text/plain": [
       "array([[40, 39, 34],\n",
       "       [23, 23, 28],\n",
       "       [36, 38, 22]])"
      ]
     },
     "execution_count": 127,
     "metadata": {},
     "output_type": "execute_result"
    }
   ],
   "source": [
    "a[0:3,0:3]"
   ]
  },
  {
   "cell_type": "code",
   "execution_count": 128,
   "id": "7cf09178",
   "metadata": {},
   "outputs": [
    {
     "data": {
      "text/plain": [
       "array([[23, 23, 47],\n",
       "       [43, 43, 46],\n",
       "       [45, 48, 35],\n",
       "       [39, 28, 23]])"
      ]
     },
     "execution_count": 128,
     "metadata": {},
     "output_type": "execute_result"
    }
   ],
   "source": [
    "a[3:7,4:7]"
   ]
  },
  {
   "cell_type": "code",
   "execution_count": 138,
   "id": "8a1af85c",
   "metadata": {},
   "outputs": [
    {
     "data": {
      "text/plain": [
       "array([[ 86, 260, 354, 106, 253,  69, 290, 430, 418, 393, 105, 322, 263,\n",
       "          4, 434, 149, 317, 411, 239, 412, 350, 387, 241,   3,  61, 321,\n",
       "        180, 179, 322, 260, 266, 402, 447, 260, 162,  63,  76,   9, 441],\n",
       "       [277, 145,  44, 183,  50, 200, 380, 229, 236,  83, 312, 350, 398,\n",
       "        267, 343,  53, 192, 195, 189, 416,  92, 250, 152,  52, 195, 369,\n",
       "        170, 295, 348, 328, 192, 225, 236,  89, 303, 215,  53, 402, 113],\n",
       "       [373,  57, 121, 348, 287, 234,   6, 239, 280, 328, 341, 189,  92,\n",
       "        343, 135,  40, 359, 297, 135, 273, 441, 341, 106, 109,  70, 246,\n",
       "          5, 386, 169,  96,  79, 147,  51, 241, 118, 206, 169, 133,  60],\n",
       "       [106, 410,  10,  85, 386, 408, 389, 442, 182, 311, 212, 191, 446,\n",
       "         41, 313,  95, 264, 117,  45, 368, 346, 285,  15,  96, 399, 344,\n",
       "        188, 172, 100, 234, 171, 107, 221,  11, 110, 188, 307,  10, 352],\n",
       "       [ 18, 366, 232, 168, 364, 329, 308,  19, 257,  44,  65, 126,  91,\n",
       "        138, 409, 333, 167,  46, 448, 200, 220,  45, 284, 261, 250, 311,\n",
       "        404, 143,  20, 127, 223, 363, 403, 244, 348, 444, 347, 404,  19],\n",
       "       [ 12,  23, 373, 279, 120, 109, 156,  48, 403, 329,  75, 236, 379,\n",
       "        154,  97, 296, 206, 123, 220, 443,  87, 253, 142, 448, 100, 285,\n",
       "        237, 215, 366, 169, 134, 146, 353, 248,  70, 420,  48, 374, 284],\n",
       "       [402,  94,  56, 386, 218,  83, 283,  34, 423, 281, 174, 125, 441,\n",
       "         15, 369, 270,  78, 128, 177, 129, 403, 185, 208, 101, 151, 413,\n",
       "        263, 448, 119, 316, 150, 431, 394,  38,  23, 189, 341, 107, 130],\n",
       "       [ 73, 376, 113, 232, 147, 398, 137, 118, 352,   9, 289, 326, 331,\n",
       "         16,  38, 362,  56, 198, 314, 320, 319,  96, 114, 160, 248, 213,\n",
       "        287, 338, 151, 375, 223, 417, 431,  16, 125, 308, 242, 301, 295],\n",
       "       [ 65, 124, 388, 395, 443, 193, 161, 364,  30,  42, 121,  48, 136,\n",
       "        100,  99, 400, 193,  58,  71, 448, 436,  89, 437, 166, 233,  70,\n",
       "         40, 282, 395, 160, 334, 308, 313, 193, 129,  82, 205, 172, 148],\n",
       "       [327, 426, 385, 163, 394, 201, 184, 437, 123, 237, 141, 210, 449,\n",
       "        414, 302, 243, 223,   3, 434, 166, 421, 322, 348, 122, 227,  45,\n",
       "        390, 417,  10, 336, 438,  55, 189, 102, 350,  58, 379, 262, 416],\n",
       "       [394,  45, 370, 293,  33, 245,  99, 335,  28,  88, 142, 322, 418,\n",
       "        210, 295, 392, 207, 410,  93,  88, 422, 110,  21, 256, 254, 318,\n",
       "        334,  15, 159, 282,  47, 297, 420, 287, 187,  27, 418,  72, 203],\n",
       "       [418, 229, 376, 180, 246, 323, 337, 263,  22,  85, 297, 293, 187,\n",
       "        128, 422, 372,  49,  53, 341, 204, 410,  96,  57, 234, 197,  20,\n",
       "         85,  52, 386, 399, 166,  44, 439, 137, 152, 243,   8,  51, 143]])"
      ]
     },
     "execution_count": 138,
     "metadata": {},
     "output_type": "execute_result"
    }
   ],
   "source": [
    "# bolean masking \n",
    "mat =np.random.randint(2,450,(12,39))\n",
    "mat"
   ]
  },
  {
   "cell_type": "code",
   "execution_count": 142,
   "id": "f647db39",
   "metadata": {},
   "outputs": [
    {
     "data": {
      "text/plain": [
       "array([434, 447, 441, 441, 442, 446, 448, 444, 443, 448, 441, 448, 431,\n",
       "       431, 443, 448, 436, 437, 437, 449, 434, 438, 439])"
      ]
     },
     "execution_count": 142,
     "metadata": {},
     "output_type": "execute_result"
    }
   ],
   "source": [
    "my_filter = mat>430\n",
    "mat=mat[my_filter]\n",
    "mat"
   ]
  },
  {
   "cell_type": "code",
   "execution_count": null,
   "id": "356fba16",
   "metadata": {},
   "outputs": [],
   "source": []
  }
 ],
 "metadata": {
  "kernelspec": {
   "display_name": "Python 3 (ipykernel)",
   "language": "python",
   "name": "python3"
  },
  "language_info": {
   "codemirror_mode": {
    "name": "ipython",
    "version": 3
   },
   "file_extension": ".py",
   "mimetype": "text/x-python",
   "name": "python",
   "nbconvert_exporter": "python",
   "pygments_lexer": "ipython3",
   "version": "3.7.13"
  }
 },
 "nbformat": 4,
 "nbformat_minor": 5
}
