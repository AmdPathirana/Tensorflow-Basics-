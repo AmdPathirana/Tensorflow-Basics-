{
 "cells": [
  {
   "cell_type": "markdown",
   "id": "443ff005",
   "metadata": {},
   "source": [
    "# Import Numpy "
   ]
  },
  {
   "cell_type": "code",
   "execution_count": 2,
   "id": "d56926b0",
   "metadata": {},
   "outputs": [],
   "source": [
    "import numpy as np"
   ]
  },
  {
   "cell_type": "code",
   "execution_count": 3,
   "id": "7cf0783b",
   "metadata": {},
   "outputs": [],
   "source": [
    "my_list=[1,2,3,4,5,6]"
   ]
  },
  {
   "cell_type": "markdown",
   "id": "52e64a5e",
   "metadata": {},
   "source": [
    "# Transform list into n dimentional array "
   ]
  },
  {
   "cell_type": "code",
   "execution_count": 4,
   "id": "7b0c92fd",
   "metadata": {},
   "outputs": [],
   "source": [
    "arr=np.array(my_list)"
   ]
  },
  {
   "cell_type": "code",
   "execution_count": 5,
   "id": "289e18ac",
   "metadata": {},
   "outputs": [
    {
     "data": {
      "text/plain": [
       "numpy.ndarray"
      ]
     },
     "execution_count": 5,
     "metadata": {},
     "output_type": "execute_result"
    }
   ],
   "source": [
    "type(arr)"
   ]
  },
  {
   "cell_type": "markdown",
   "id": "7a6936e5",
   "metadata": {},
   "source": [
    "# Create an array between 2 numbers "
   ]
  },
  {
   "cell_type": "code",
   "execution_count": 6,
   "id": "beabac74",
   "metadata": {},
   "outputs": [
    {
     "data": {
      "text/plain": [
       "array([0, 1, 2, 3, 4, 5, 6, 7, 8, 9])"
      ]
     },
     "execution_count": 6,
     "metadata": {},
     "output_type": "execute_result"
    }
   ],
   "source": [
    "np.arange(0,10)"
   ]
  },
  {
   "cell_type": "code",
   "execution_count": 7,
   "id": "55611ceb",
   "metadata": {},
   "outputs": [
    {
     "data": {
      "text/plain": [
       "array([1, 4, 7])"
      ]
     },
     "execution_count": 7,
     "metadata": {},
     "output_type": "execute_result"
    }
   ],
   "source": [
    "np.arange(1,10,3)"
   ]
  },
  {
   "cell_type": "markdown",
   "id": "f3114636",
   "metadata": {},
   "source": [
    "# Create an array with number of zeros "
   ]
  },
  {
   "cell_type": "code",
   "execution_count": 8,
   "id": "4a9c2574",
   "metadata": {},
   "outputs": [
    {
     "data": {
      "text/plain": [
       "array([0., 0., 0., 0., 0., 0., 0., 0., 0., 0.])"
      ]
     },
     "execution_count": 8,
     "metadata": {},
     "output_type": "execute_result"
    }
   ],
   "source": [
    "np.zeros(10)"
   ]
  },
  {
   "cell_type": "code",
   "execution_count": 9,
   "id": "c7b1d3e7",
   "metadata": {},
   "outputs": [
    {
     "data": {
      "text/plain": [
       "array([[0., 0., 0., 0., 0.],\n",
       "       [0., 0., 0., 0., 0.],\n",
       "       [0., 0., 0., 0., 0.],\n",
       "       [0., 0., 0., 0., 0.],\n",
       "       [0., 0., 0., 0., 0.],\n",
       "       [0., 0., 0., 0., 0.],\n",
       "       [0., 0., 0., 0., 0.],\n",
       "       [0., 0., 0., 0., 0.],\n",
       "       [0., 0., 0., 0., 0.],\n",
       "       [0., 0., 0., 0., 0.]])"
      ]
     },
     "execution_count": 9,
     "metadata": {},
     "output_type": "execute_result"
    }
   ],
   "source": [
    "np.zeros((10,5))"
   ]
  },
  {
   "cell_type": "markdown",
   "id": "4249abda",
   "metadata": {},
   "source": [
    "# Get linear space number array between given 2 numbers with given number of outputs "
   ]
  },
  {
   "cell_type": "code",
   "execution_count": 10,
   "id": "1bb63759",
   "metadata": {},
   "outputs": [
    {
     "data": {
      "text/plain": [
       "array([ 0.        ,  0.03344482,  0.06688963,  0.10033445,  0.13377926,\n",
       "        0.16722408,  0.2006689 ,  0.23411371,  0.26755853,  0.30100334,\n",
       "        0.33444816,  0.36789298,  0.40133779,  0.43478261,  0.46822742,\n",
       "        0.50167224,  0.53511706,  0.56856187,  0.60200669,  0.63545151,\n",
       "        0.66889632,  0.70234114,  0.73578595,  0.76923077,  0.80267559,\n",
       "        0.8361204 ,  0.86956522,  0.90301003,  0.93645485,  0.96989967,\n",
       "        1.00334448,  1.0367893 ,  1.07023411,  1.10367893,  1.13712375,\n",
       "        1.17056856,  1.20401338,  1.23745819,  1.27090301,  1.30434783,\n",
       "        1.33779264,  1.37123746,  1.40468227,  1.43812709,  1.47157191,\n",
       "        1.50501672,  1.53846154,  1.57190635,  1.60535117,  1.63879599,\n",
       "        1.6722408 ,  1.70568562,  1.73913043,  1.77257525,  1.80602007,\n",
       "        1.83946488,  1.8729097 ,  1.90635452,  1.93979933,  1.97324415,\n",
       "        2.00668896,  2.04013378,  2.0735786 ,  2.10702341,  2.14046823,\n",
       "        2.17391304,  2.20735786,  2.24080268,  2.27424749,  2.30769231,\n",
       "        2.34113712,  2.37458194,  2.40802676,  2.44147157,  2.47491639,\n",
       "        2.5083612 ,  2.54180602,  2.57525084,  2.60869565,  2.64214047,\n",
       "        2.67558528,  2.7090301 ,  2.74247492,  2.77591973,  2.80936455,\n",
       "        2.84280936,  2.87625418,  2.909699  ,  2.94314381,  2.97658863,\n",
       "        3.01003344,  3.04347826,  3.07692308,  3.11036789,  3.14381271,\n",
       "        3.17725753,  3.21070234,  3.24414716,  3.27759197,  3.31103679,\n",
       "        3.34448161,  3.37792642,  3.41137124,  3.44481605,  3.47826087,\n",
       "        3.51170569,  3.5451505 ,  3.57859532,  3.61204013,  3.64548495,\n",
       "        3.67892977,  3.71237458,  3.7458194 ,  3.77926421,  3.81270903,\n",
       "        3.84615385,  3.87959866,  3.91304348,  3.94648829,  3.97993311,\n",
       "        4.01337793,  4.04682274,  4.08026756,  4.11371237,  4.14715719,\n",
       "        4.18060201,  4.21404682,  4.24749164,  4.28093645,  4.31438127,\n",
       "        4.34782609,  4.3812709 ,  4.41471572,  4.44816054,  4.48160535,\n",
       "        4.51505017,  4.54849498,  4.5819398 ,  4.61538462,  4.64882943,\n",
       "        4.68227425,  4.71571906,  4.74916388,  4.7826087 ,  4.81605351,\n",
       "        4.84949833,  4.88294314,  4.91638796,  4.94983278,  4.98327759,\n",
       "        5.01672241,  5.05016722,  5.08361204,  5.11705686,  5.15050167,\n",
       "        5.18394649,  5.2173913 ,  5.25083612,  5.28428094,  5.31772575,\n",
       "        5.35117057,  5.38461538,  5.4180602 ,  5.45150502,  5.48494983,\n",
       "        5.51839465,  5.55183946,  5.58528428,  5.6187291 ,  5.65217391,\n",
       "        5.68561873,  5.71906355,  5.75250836,  5.78595318,  5.81939799,\n",
       "        5.85284281,  5.88628763,  5.91973244,  5.95317726,  5.98662207,\n",
       "        6.02006689,  6.05351171,  6.08695652,  6.12040134,  6.15384615,\n",
       "        6.18729097,  6.22073579,  6.2541806 ,  6.28762542,  6.32107023,\n",
       "        6.35451505,  6.38795987,  6.42140468,  6.4548495 ,  6.48829431,\n",
       "        6.52173913,  6.55518395,  6.58862876,  6.62207358,  6.65551839,\n",
       "        6.68896321,  6.72240803,  6.75585284,  6.78929766,  6.82274247,\n",
       "        6.85618729,  6.88963211,  6.92307692,  6.95652174,  6.98996656,\n",
       "        7.02341137,  7.05685619,  7.090301  ,  7.12374582,  7.15719064,\n",
       "        7.19063545,  7.22408027,  7.25752508,  7.2909699 ,  7.32441472,\n",
       "        7.35785953,  7.39130435,  7.42474916,  7.45819398,  7.4916388 ,\n",
       "        7.52508361,  7.55852843,  7.59197324,  7.62541806,  7.65886288,\n",
       "        7.69230769,  7.72575251,  7.75919732,  7.79264214,  7.82608696,\n",
       "        7.85953177,  7.89297659,  7.9264214 ,  7.95986622,  7.99331104,\n",
       "        8.02675585,  8.06020067,  8.09364548,  8.1270903 ,  8.16053512,\n",
       "        8.19397993,  8.22742475,  8.26086957,  8.29431438,  8.3277592 ,\n",
       "        8.36120401,  8.39464883,  8.42809365,  8.46153846,  8.49498328,\n",
       "        8.52842809,  8.56187291,  8.59531773,  8.62876254,  8.66220736,\n",
       "        8.69565217,  8.72909699,  8.76254181,  8.79598662,  8.82943144,\n",
       "        8.86287625,  8.89632107,  8.92976589,  8.9632107 ,  8.99665552,\n",
       "        9.03010033,  9.06354515,  9.09698997,  9.13043478,  9.1638796 ,\n",
       "        9.19732441,  9.23076923,  9.26421405,  9.29765886,  9.33110368,\n",
       "        9.36454849,  9.39799331,  9.43143813,  9.46488294,  9.49832776,\n",
       "        9.53177258,  9.56521739,  9.59866221,  9.63210702,  9.66555184,\n",
       "        9.69899666,  9.73244147,  9.76588629,  9.7993311 ,  9.83277592,\n",
       "        9.86622074,  9.89966555,  9.93311037,  9.96655518, 10.        ])"
      ]
     },
     "execution_count": 10,
     "metadata": {},
     "output_type": "execute_result"
    }
   ],
   "source": [
    "np.linspace(0,10,300)"
   ]
  },
  {
   "cell_type": "markdown",
   "id": "0fc65101",
   "metadata": {},
   "source": [
    "# Get random integer "
   ]
  },
  {
   "cell_type": "code",
   "execution_count": 11,
   "id": "04e22206",
   "metadata": {},
   "outputs": [
    {
     "data": {
      "text/plain": [
       "9"
      ]
     },
     "execution_count": 11,
     "metadata": {},
     "output_type": "execute_result"
    }
   ],
   "source": [
    "np.random.randint(2,10)"
   ]
  },
  {
   "cell_type": "code",
   "execution_count": 12,
   "id": "2e46605a",
   "metadata": {},
   "outputs": [
    {
     "data": {
      "text/plain": [
       "array([[2780, 2762, 9988, 6045, 8341, 3148, 6356, 1848, 2925],\n",
       "       [3619, 4843, 7966, 8877, 4177, 3299, 4830, 3113, 9634],\n",
       "       [9197, 5429, 6289, 9571, 1242, 3919, 1929, 4032, 7619],\n",
       "       [ 893, 8038, 5061,  462, 1208, 1699, 8580,  999, 9556]])"
      ]
     },
     "execution_count": 12,
     "metadata": {},
     "output_type": "execute_result"
    }
   ],
   "source": [
    "np.random.randint(200,10123, (4,9))"
   ]
  },
  {
   "cell_type": "code",
   "execution_count": 13,
   "id": "7e3461fa",
   "metadata": {},
   "outputs": [
    {
     "data": {
      "text/plain": [
       "array([  200.        ,  1302.55555556,  2405.11111111,  3507.66666667,\n",
       "        4610.22222222,  5712.77777778,  6815.33333333,  7917.88888889,\n",
       "        9020.44444444, 10123.        ])"
      ]
     },
     "execution_count": 13,
     "metadata": {},
     "output_type": "execute_result"
    }
   ],
   "source": [
    "np.linspace(200,10123,10)"
   ]
  },
  {
   "cell_type": "markdown",
   "id": "194eb5c5",
   "metadata": {},
   "source": [
    "# Create a random value using seed()"
   ]
  },
  {
   "cell_type": "markdown",
   "id": "2e910248",
   "metadata": {},
   "source": [
    "It will create random value/s for the paticular given range, to get the same value/s for all the time it needs to use seed()"
   ]
  },
  {
   "cell_type": "code",
   "execution_count": 147,
   "id": "68109bb0",
   "metadata": {},
   "outputs": [
    {
     "data": {
      "text/plain": [
       "array([39, 45, 94, 58, 59, 38, 30, 70, 66, 46])"
      ]
     },
     "execution_count": 147,
     "metadata": {},
     "output_type": "execute_result"
    }
   ],
   "source": [
    "np.random.seed(10)\n",
    "np.random.randint(30,100,10)"
   ]
  },
  {
   "cell_type": "code",
   "execution_count": 148,
   "id": "7dd77737",
   "metadata": {},
   "outputs": [
    {
     "data": {
      "text/plain": [
       "array([67, 42, 39, 35, 94, 46, 31, 36, 55, 80])"
      ]
     },
     "execution_count": 148,
     "metadata": {},
     "output_type": "execute_result"
    }
   ],
   "source": [
    "np.random.seed(1)\n",
    "np.random.randint(30,100,10)"
   ]
  },
  {
   "cell_type": "markdown",
   "id": "b37b3b04",
   "metadata": {},
   "source": [
    "As it uses the same seed as 10, it create the same list "
   ]
  },
  {
   "cell_type": "code",
   "execution_count": 149,
   "id": "d6432ca4",
   "metadata": {},
   "outputs": [
    {
     "data": {
      "text/plain": [
       "array([39, 45, 94, 58, 59, 38, 30, 70, 66, 46])"
      ]
     },
     "execution_count": 149,
     "metadata": {},
     "output_type": "execute_result"
    }
   ],
   "source": [
    "np.random.seed(10)\n",
    "np.random.randint(30,100,10)"
   ]
  },
  {
   "cell_type": "markdown",
   "id": "5cf316a6",
   "metadata": {},
   "source": [
    "works with random values and arrays "
   ]
  },
  {
   "cell_type": "code",
   "execution_count": 157,
   "id": "4ad4b07b",
   "metadata": {},
   "outputs": [
    {
     "data": {
      "text/plain": [
       "array([23, 46, 35, 48, 46, 29, 40, 31, 42, 27, 22, 20, 42, 28, 41])"
      ]
     },
     "execution_count": 157,
     "metadata": {},
     "output_type": "execute_result"
    }
   ],
   "source": [
    "np.random.seed(20)\n",
    "arr=np.random.randint(20,51,15)\n",
    "arr\n"
   ]
  },
  {
   "cell_type": "code",
   "execution_count": 158,
   "id": "44b2c7b8",
   "metadata": {},
   "outputs": [
    {
     "data": {
      "text/plain": [
       "48"
      ]
     },
     "execution_count": 158,
     "metadata": {},
     "output_type": "execute_result"
    }
   ],
   "source": [
    "arr.max()"
   ]
  },
  {
   "cell_type": "code",
   "execution_count": 159,
   "id": "568946e1",
   "metadata": {},
   "outputs": [
    {
     "data": {
      "text/plain": [
       "20"
      ]
     },
     "execution_count": 159,
     "metadata": {},
     "output_type": "execute_result"
    }
   ],
   "source": [
    "arr.min()"
   ]
  },
  {
   "cell_type": "code",
   "execution_count": 160,
   "id": "23c9eb79",
   "metadata": {},
   "outputs": [
    {
     "data": {
      "text/plain": [
       "34.666666666666664"
      ]
     },
     "execution_count": 160,
     "metadata": {},
     "output_type": "execute_result"
    }
   ],
   "source": [
    "arr.mean()"
   ]
  },
  {
   "cell_type": "markdown",
   "id": "b5ae6a4b",
   "metadata": {},
   "source": [
    "Give out the index of the maximum value of the array\n"
   ]
  },
  {
   "cell_type": "code",
   "execution_count": 162,
   "id": "8ab6867b",
   "metadata": {},
   "outputs": [
    {
     "data": {
      "text/plain": [
       "3"
      ]
     },
     "execution_count": 162,
     "metadata": {},
     "output_type": "execute_result"
    }
   ],
   "source": [
    "arr.argmax()"
   ]
  },
  {
   "cell_type": "markdown",
   "id": "6c0f3121",
   "metadata": {},
   "source": [
    "Give out the inedx of the minimum value of the array "
   ]
  },
  {
   "cell_type": "code",
   "execution_count": 163,
   "id": "2ca42d91",
   "metadata": {},
   "outputs": [
    {
     "data": {
      "text/plain": [
       "11"
      ]
     },
     "execution_count": 163,
     "metadata": {},
     "output_type": "execute_result"
    }
   ],
   "source": [
    "arr.argmin()"
   ]
  },
  {
   "cell_type": "markdown",
   "id": "f4fbca30",
   "metadata": {},
   "source": [
    "Reshape an array "
   ]
  },
  {
   "cell_type": "code",
   "execution_count": 169,
   "id": "b5e58982",
   "metadata": {},
   "outputs": [
    {
     "data": {
      "text/plain": [
       "array([[23, 46, 35, 48, 46],\n",
       "       [29, 40, 31, 42, 27],\n",
       "       [22, 20, 42, 28, 41]])"
      ]
     },
     "execution_count": 169,
     "metadata": {},
     "output_type": "execute_result"
    }
   ],
   "source": [
    "len(arr)\n",
    "arr.reshape(3,5)"
   ]
  },
  {
   "cell_type": "raw",
   "id": "4d91685b",
   "metadata": {},
   "source": [
    "Create an array in between 0 and 100, reshape it to 10*10 array. "
   ]
  },
  {
   "cell_type": "code",
   "execution_count": 172,
   "id": "3f7b901e",
   "metadata": {},
   "outputs": [
    {
     "data": {
      "text/plain": [
       "array([[ 0,  1,  2,  3,  4,  5,  6,  7,  8,  9],\n",
       "       [10, 11, 12, 13, 14, 15, 16, 17, 18, 19],\n",
       "       [20, 21, 22, 23, 24, 25, 26, 27, 28, 29],\n",
       "       [30, 31, 32, 33, 34, 35, 36, 37, 38, 39],\n",
       "       [40, 41, 42, 43, 44, 45, 46, 47, 48, 49],\n",
       "       [50, 51, 52, 53, 54, 55, 56, 57, 58, 59],\n",
       "       [60, 61, 62, 63, 64, 65, 66, 67, 68, 69],\n",
       "       [70, 71, 72, 73, 74, 75, 76, 77, 78, 79],\n",
       "       [80, 81, 82, 83, 84, 85, 86, 87, 88, 89],\n",
       "       [90, 91, 92, 93, 94, 95, 96, 97, 98, 99]])"
      ]
     },
     "execution_count": 172,
     "metadata": {},
     "output_type": "execute_result"
    }
   ],
   "source": [
    "mat= np.arange(0,100).reshape(10,10)\n",
    "mat"
   ]
  },
  {
   "cell_type": "code",
   "execution_count": 173,
   "id": "30dfab09",
   "metadata": {},
   "outputs": [
    {
     "data": {
      "text/plain": [
       "array([[ 0,  1,  2,  3,  4,  5,  6,  7,  8,  9],\n",
       "       [10, 11, 12, 13, 14, 15, 16, 17, 18, 19],\n",
       "       [20, 21, 22, 23, 24, 25, 26, 27, 28, 29],\n",
       "       [30, 31, 32, 33, 34, 35, 36, 37, 38, 39],\n",
       "       [40, 41, 42, 43, 44, 45, 46, 47, 48, 49],\n",
       "       [50, 51, 52, 53, 54, 55, 56, 57, 58, 59],\n",
       "       [60, 61, 62, 63, 64, 65, 66, 67, 68, 69],\n",
       "       [70, 71, 72, 73, 74, 75, 76, 77, 78, 79],\n",
       "       [80, 81, 82, 83, 84, 85, 86, 87, 88, 89],\n",
       "       [90, 91, 92, 93, 94, 95, 96, 97, 98, 99]])"
      ]
     },
     "execution_count": 173,
     "metadata": {},
     "output_type": "execute_result"
    }
   ],
   "source": [
    "mat[0:10]"
   ]
  },
  {
   "cell_type": "markdown",
   "id": "a6f21f56",
   "metadata": {},
   "source": [
    "Get a spesific colums "
   ]
  },
  {
   "cell_type": "code",
   "execution_count": 174,
   "id": "985342e6",
   "metadata": {},
   "outputs": [
    {
     "data": {
      "text/plain": [
       "array([ 0, 10, 20, 30, 40, 50, 60, 70, 80, 90])"
      ]
     },
     "execution_count": 174,
     "metadata": {},
     "output_type": "execute_result"
    }
   ],
   "source": [
    "mat[:,0]"
   ]
  },
  {
   "cell_type": "code",
   "execution_count": 178,
   "id": "631f96a1",
   "metadata": {},
   "outputs": [
    {
     "data": {
      "text/plain": [
       "array([ 5, 15, 25, 35, 45, 55, 65, 75, 85, 95])"
      ]
     },
     "execution_count": 178,
     "metadata": {},
     "output_type": "execute_result"
    }
   ],
   "source": [
    "mat[:,5]"
   ]
  },
  {
   "cell_type": "markdown",
   "id": "5bcbd2b1",
   "metadata": {},
   "source": [
    "Get a specific row "
   ]
  },
  {
   "cell_type": "code",
   "execution_count": 176,
   "id": "9d89a5f5",
   "metadata": {},
   "outputs": [
    {
     "data": {
      "text/plain": [
       "array([10, 11, 12, 13, 14, 15, 16, 17, 18, 19])"
      ]
     },
     "execution_count": 176,
     "metadata": {},
     "output_type": "execute_result"
    }
   ],
   "source": [
    "mat[1,:]"
   ]
  },
  {
   "cell_type": "code",
   "execution_count": 177,
   "id": "fdbb9c6d",
   "metadata": {},
   "outputs": [
    {
     "data": {
      "text/plain": [
       "array([0, 1, 2, 3, 4, 5, 6, 7, 8, 9])"
      ]
     },
     "execution_count": 177,
     "metadata": {},
     "output_type": "execute_result"
    }
   ],
   "source": [
    "mat[0,:]"
   ]
  },
  {
   "cell_type": "markdown",
   "id": "b34e1738",
   "metadata": {},
   "source": [
    "Boolean masking "
   ]
  },
  {
   "cell_type": "code",
   "execution_count": 180,
   "id": "fe801341",
   "metadata": {},
   "outputs": [
    {
     "data": {
      "text/plain": [
       "array([[ 0,  1,  2,  3,  4,  5,  6,  7,  8,  9],\n",
       "       [10, 11, 12, 13, 14, 15, 16, 17, 18, 19],\n",
       "       [20, 21, 22, 23, 24, 25, 26, 27, 28, 29],\n",
       "       [30, 31, 32, 33, 34, 35, 36, 37, 38, 39],\n",
       "       [40, 41, 42, 43, 44, 45, 46, 47, 48, 49],\n",
       "       [50, 51, 52, 53, 54, 55, 56, 57, 58, 59],\n",
       "       [60, 61, 62, 63, 64, 65, 66, 67, 68, 69],\n",
       "       [70, 71, 72, 73, 74, 75, 76, 77, 78, 79],\n",
       "       [80, 81, 82, 83, 84, 85, 86, 87, 88, 89],\n",
       "       [90, 91, 92, 93, 94, 95, 96, 97, 98, 99]])"
      ]
     },
     "execution_count": 180,
     "metadata": {},
     "output_type": "execute_result"
    }
   ],
   "source": [
    "mat"
   ]
  },
  {
   "cell_type": "code",
   "execution_count": 181,
   "id": "1c64833e",
   "metadata": {},
   "outputs": [
    {
     "data": {
      "text/plain": [
       "array([[False, False, False, False, False, False, False, False, False,\n",
       "        False],\n",
       "       [False, False, False, False, False, False, False, False, False,\n",
       "        False],\n",
       "       [False, False, False, False, False, False, False, False, False,\n",
       "        False],\n",
       "       [False, False, False, False, False, False, False, False, False,\n",
       "        False],\n",
       "       [False, False, False, False, False, False, False, False, False,\n",
       "        False],\n",
       "       [False,  True,  True,  True,  True,  True,  True,  True,  True,\n",
       "         True],\n",
       "       [ True,  True,  True,  True,  True,  True,  True,  True,  True,\n",
       "         True],\n",
       "       [ True,  True,  True,  True,  True,  True,  True,  True,  True,\n",
       "         True],\n",
       "       [ True,  True,  True,  True,  True,  True,  True,  True,  True,\n",
       "         True],\n",
       "       [ True,  True,  True,  True,  True,  True,  True,  True,  True,\n",
       "         True]])"
      ]
     },
     "execution_count": 181,
     "metadata": {},
     "output_type": "execute_result"
    }
   ],
   "source": [
    "mat>50"
   ]
  },
  {
   "cell_type": "code",
   "execution_count": 182,
   "id": "6b64f3a3",
   "metadata": {},
   "outputs": [
    {
     "data": {
      "text/plain": [
       "array([51, 52, 53, 54, 55, 56, 57, 58, 59, 60, 61, 62, 63, 64, 65, 66, 67,\n",
       "       68, 69, 70, 71, 72, 73, 74, 75, 76, 77, 78, 79, 80, 81, 82, 83, 84,\n",
       "       85, 86, 87, 88, 89, 90, 91, 92, 93, 94, 95, 96, 97, 98, 99])"
      ]
     },
     "execution_count": 182,
     "metadata": {},
     "output_type": "execute_result"
    }
   ],
   "source": [
    "my_filter=mat>50\n",
    "mat[my_filter]"
   ]
  },
  {
   "cell_type": "code",
   "execution_count": null,
   "id": "471bdd7c",
   "metadata": {},
   "outputs": [],
   "source": []
  }
 ],
 "metadata": {
  "kernelspec": {
   "display_name": "Python 3 (ipykernel)",
   "language": "python",
   "name": "python3"
  },
  "language_info": {
   "codemirror_mode": {
    "name": "ipython",
    "version": 3
   },
   "file_extension": ".py",
   "mimetype": "text/x-python",
   "name": "python",
   "nbconvert_exporter": "python",
   "pygments_lexer": "ipython3",
   "version": "3.7.13"
  }
 },
 "nbformat": 4,
 "nbformat_minor": 5
}
