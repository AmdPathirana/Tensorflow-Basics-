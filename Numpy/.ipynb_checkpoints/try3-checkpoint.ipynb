{
 "cells": [
  {
   "cell_type": "code",
   "execution_count": 61,
   "id": "7bd37497",
   "metadata": {},
   "outputs": [],
   "source": [
    "import numpy as np"
   ]
  },
  {
   "cell_type": "markdown",
   "id": "70ad1387",
   "metadata": {},
   "source": [
    "Covert array in to list"
   ]
  },
  {
   "cell_type": "code",
   "execution_count": 62,
   "id": "fc9f9fc2",
   "metadata": {},
   "outputs": [],
   "source": [
    "list=[1,2,3,4,5,5]\n",
    "arr=np.array(list)"
   ]
  },
  {
   "cell_type": "code",
   "execution_count": 63,
   "id": "e39887b4",
   "metadata": {},
   "outputs": [
    {
     "data": {
      "text/plain": [
       "numpy.ndarray"
      ]
     },
     "execution_count": 63,
     "metadata": {},
     "output_type": "execute_result"
    }
   ],
   "source": [
    "type(arr)"
   ]
  },
  {
   "cell_type": "markdown",
   "id": "a0f4d373",
   "metadata": {},
   "source": [
    "create an array"
   ]
  },
  {
   "cell_type": "code",
   "execution_count": 64,
   "id": "9c79a404",
   "metadata": {},
   "outputs": [
    {
     "data": {
      "text/plain": [
       "array([ 0,  4,  8, 12, 16, 20, 24, 28, 32, 36, 40, 44, 48, 52, 56, 60, 64,\n",
       "       68, 72, 76, 80, 84, 88, 92, 96])"
      ]
     },
     "execution_count": 64,
     "metadata": {},
     "output_type": "execute_result"
    }
   ],
   "source": [
    "arr =np.arange(0,100,4)\n",
    "arr"
   ]
  },
  {
   "cell_type": "code",
   "execution_count": 65,
   "id": "4207f79a",
   "metadata": {},
   "outputs": [
    {
     "data": {
      "text/plain": [
       "array([[0., 0., 0., 0., 0.],\n",
       "       [0., 0., 0., 0., 0.],\n",
       "       [0., 0., 0., 0., 0.],\n",
       "       [0., 0., 0., 0., 0.]])"
      ]
     },
     "execution_count": 65,
     "metadata": {},
     "output_type": "execute_result"
    }
   ],
   "source": [
    "arr_z=np.zeros((4,5))\n",
    "arr_z"
   ]
  },
  {
   "cell_type": "code",
   "execution_count": 66,
   "id": "847618cf",
   "metadata": {},
   "outputs": [
    {
     "data": {
      "text/plain": [
       "array([0., 0., 0.])"
      ]
     },
     "execution_count": 66,
     "metadata": {},
     "output_type": "execute_result"
    }
   ],
   "source": [
    "arr_z2=np.zeros(3)\n",
    "arr_z2"
   ]
  },
  {
   "cell_type": "code",
   "execution_count": 81,
   "id": "44b2d023",
   "metadata": {},
   "outputs": [
    {
     "data": {
      "text/plain": [
       "array([20., 35., 50.])"
      ]
     },
     "execution_count": 81,
     "metadata": {},
     "output_type": "execute_result"
    }
   ],
   "source": [
    "linspace = np.linspace(20,50,3)\n",
    "linspace"
   ]
  },
  {
   "cell_type": "code",
   "execution_count": 84,
   "id": "29d02365",
   "metadata": {},
   "outputs": [
    {
     "data": {
      "text/plain": [
       "array([357, 476, 273, 225, 220, 395, 406, 845, 792, 585, 164, 120, 554,\n",
       "       471, 476, 796, 765, 786, 767, 744, 744, 192, 146, 619, 777, 487,\n",
       "       257,   8, 284, 655, 539, 716, 205, 831, 443, 480, 290, 780, 776,\n",
       "       845, 276, 261, 511, 403, 762,  45, 146, 788,  81, 701, 589, 120,\n",
       "       415, 431, 520, 705, 848, 794, 291, 464,  44, 517, 584, 694, 536,\n",
       "       656, 518, 541, 845, 266, 264, 540,  80, 373, 140, 236, 419, 727,\n",
       "       628, 275, 810,  84, 812, 830, 125, 641, 160, 806, 650, 760, 178,\n",
       "       789, 246, 818, 767, 737, 439, 780, 296, 779])"
      ]
     },
     "execution_count": 84,
     "metadata": {},
     "output_type": "execute_result"
    }
   ],
   "source": [
    "np.random.seed(20)\n",
    "ran_arr=np.random.randint(2,850,100)\n",
    "ran_arr"
   ]
  },
  {
   "cell_type": "code",
   "execution_count": 86,
   "id": "379c8b6f",
   "metadata": {},
   "outputs": [
    {
     "name": "stdout",
     "output_type": "stream",
     "text": [
      "[848 845 845 845 831 830 818 812 810 806 796 794 792 789 788 786 780 780\n",
      " 777 776 767 767 765 762 760 744 744 737 727 716 705 701 694 656 655 628\n",
      " 619 589 585 584 554 541 540 539 511 476 406 357 273 225 220 395 164 120\n",
      " 471 476 487 192 146 257   8 284 480 205 443 290 276 261 403  45 146  81\n",
      " 120 415 431 520 464 291  44 517 536 518 373 266 264  80 140 236 419 275\n",
      "  84 641 125 160 650 178 246 439 296 779]\n"
     ]
    }
   ],
   "source": [
    "def insertionSort(ran_arr):\n",
    "    for i in range(len(ran_arr)-1):\n",
    "        if ran_arr[i]>ran_arr[i+1]:\n",
    "            for j in range(i+1, 0, -1):\n",
    "                if ran_arr[j]<ran_arr[j-1]:\n",
    "                    temp=ran_arr[j]\n",
    "                    ran_arr[j]=ran_arr[j-1]\n",
    "                    ran_arr[j-1]=temp\n",
    "    return ran_arr\n",
    "print(insertionSort(ran_arr))"
   ]
  },
  {
   "cell_type": "code",
   "execution_count": 70,
   "id": "f72538ee",
   "metadata": {},
   "outputs": [
    {
     "name": "stdout",
     "output_type": "stream",
     "text": [
      "[845 792 476 357 273 225 220 395 406 585]\n"
     ]
    }
   ],
   "source": [
    "print(insertionSort(ran_arr))"
   ]
  },
  {
   "cell_type": "code",
   "execution_count": null,
   "id": "348eb7fd",
   "metadata": {},
   "outputs": [],
   "source": []
  }
 ],
 "metadata": {
  "kernelspec": {
   "display_name": "Python 3 (ipykernel)",
   "language": "python",
   "name": "python3"
  },
  "language_info": {
   "codemirror_mode": {
    "name": "ipython",
    "version": 3
   },
   "file_extension": ".py",
   "mimetype": "text/x-python",
   "name": "python",
   "nbconvert_exporter": "python",
   "pygments_lexer": "ipython3",
   "version": "3.7.13"
  }
 },
 "nbformat": 4,
 "nbformat_minor": 5
}
