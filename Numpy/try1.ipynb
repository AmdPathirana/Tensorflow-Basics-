{
 "cells": [
  {
   "cell_type": "code",
   "execution_count": 1,
   "id": "7450c98d",
   "metadata": {},
   "outputs": [],
   "source": [
    "import numpy as np"
   ]
  },
  {
   "cell_type": "code",
   "execution_count": 2,
   "id": "95f40201",
   "metadata": {},
   "outputs": [
    {
     "data": {
      "text/plain": [
       "array([1, 2, 3, 4, 5, 6])"
      ]
     },
     "execution_count": 2,
     "metadata": {},
     "output_type": "execute_result"
    }
   ],
   "source": [
    "list=[1,2,3,4,5,6]\n",
    "np.array(list)"
   ]
  },
  {
   "cell_type": "code",
   "execution_count": 3,
   "id": "0d3ccbcf",
   "metadata": {},
   "outputs": [
    {
     "data": {
      "text/plain": [
       "array([1, 2, 3, 4, 5, 6, 7, 8, 9])"
      ]
     },
     "execution_count": 3,
     "metadata": {},
     "output_type": "execute_result"
    }
   ],
   "source": [
    "np.arange(1,10)"
   ]
  },
  {
   "cell_type": "code",
   "execution_count": 4,
   "id": "1cad36c6",
   "metadata": {},
   "outputs": [
    {
     "data": {
      "text/plain": [
       "array([  2,   7,  12,  17,  22,  27,  32,  37,  42,  47,  52,  57,  62,\n",
       "        67,  72,  77,  82,  87,  92,  97, 102, 107, 112, 117, 122, 127,\n",
       "       132, 137, 142, 147, 152, 157, 162, 167, 172, 177, 182, 187, 192,\n",
       "       197, 202, 207, 212, 217, 222, 227, 232, 237, 242, 247, 252, 257,\n",
       "       262, 267, 272, 277, 282, 287, 292, 297])"
      ]
     },
     "execution_count": 4,
     "metadata": {},
     "output_type": "execute_result"
    }
   ],
   "source": [
    "np.arange(2,300,5)"
   ]
  },
  {
   "cell_type": "code",
   "execution_count": 8,
   "id": "40943cf3",
   "metadata": {
    "scrolled": true
   },
   "outputs": [
    {
     "data": {
      "text/plain": [
       "array([[ 2,  3,  4,  5,  6,  7,  8,  9, 10, 11, 12, 13, 14, 15, 16, 17,\n",
       "        18, 19, 20, 21, 22, 23, 24, 25, 26, 27, 28, 29, 30, 31, 32, 33,\n",
       "        34, 35, 36, 37, 38, 39, 40, 41, 42, 43, 44, 45, 46, 47, 48, 49,\n",
       "        50],\n",
       "       [51, 52, 53, 54, 55, 56, 57, 58, 59, 60, 61, 62, 63, 64, 65, 66,\n",
       "        67, 68, 69, 70, 71, 72, 73, 74, 75, 76, 77, 78, 79, 80, 81, 82,\n",
       "        83, 84, 85, 86, 87, 88, 89, 90, 91, 92, 93, 94, 95, 96, 97, 98,\n",
       "        99]])"
      ]
     },
     "execution_count": 8,
     "metadata": {},
     "output_type": "execute_result"
    }
   ],
   "source": [
    "np.arange(2,100).reshape(2,49)"
   ]
  },
  {
   "cell_type": "code",
   "execution_count": 9,
   "id": "02dfc3ae",
   "metadata": {},
   "outputs": [
    {
     "data": {
      "text/plain": [
       "array([0., 0., 0., 0., 0.])"
      ]
     },
     "execution_count": 9,
     "metadata": {},
     "output_type": "execute_result"
    }
   ],
   "source": [
    "np.zeros(5)"
   ]
  },
  {
   "cell_type": "code",
   "execution_count": 11,
   "id": "a4cb8f64",
   "metadata": {},
   "outputs": [
    {
     "data": {
      "text/plain": [
       "array([[0., 0., 0., 0., 0.],\n",
       "       [0., 0., 0., 0., 0.],\n",
       "       [0., 0., 0., 0., 0.],\n",
       "       [0., 0., 0., 0., 0.],\n",
       "       [0., 0., 0., 0., 0.]])"
      ]
     },
     "execution_count": 11,
     "metadata": {},
     "output_type": "execute_result"
    }
   ],
   "source": [
    "np.zeros([5,5])"
   ]
  },
  {
   "cell_type": "code",
   "execution_count": 12,
   "id": "05c2422b",
   "metadata": {},
   "outputs": [
    {
     "data": {
      "text/plain": [
       "array([ 1.        , 10.66666667, 20.33333333, 30.        ])"
      ]
     },
     "execution_count": 12,
     "metadata": {},
     "output_type": "execute_result"
    }
   ],
   "source": [
    "np.linspace(1,30,4)"
   ]
  },
  {
   "cell_type": "code",
   "execution_count": 31,
   "id": "c9d0309d",
   "metadata": {},
   "outputs": [
    {
     "data": {
      "text/plain": [
       "array([[11, 60, 57, 57, 59, 38, 52, 46, 40, 54],\n",
       "       [ 5,  2, 57, 23, 23, 75, 40, 58, 68, 48]])"
      ]
     },
     "execution_count": 31,
     "metadata": {},
     "output_type": "execute_result"
    }
   ],
   "source": [
    "# np.random.seed(4)\n",
    "np.random.randint(2,90, (2,10))"
   ]
  },
  {
   "cell_type": "code",
   "execution_count": 33,
   "id": "64fb3b82",
   "metadata": {},
   "outputs": [
    {
     "data": {
      "text/plain": [
       "array(['3', '4', '4', '44', '4657', '75', 'af'], dtype='<U21')"
      ]
     },
     "execution_count": 33,
     "metadata": {},
     "output_type": "execute_result"
    }
   ],
   "source": [
    "list =[3,4,4,44,4657,75,\"af\"]\n",
    "np.array(list)\n"
   ]
  },
  {
   "cell_type": "code",
   "execution_count": 34,
   "id": "647db3e6",
   "metadata": {},
   "outputs": [
    {
     "data": {
      "text/plain": [
       "array([ 2,  6, 10, 14, 18, 22, 26, 30, 34, 38, 42, 46, 50, 54, 58, 62, 66])"
      ]
     },
     "execution_count": 34,
     "metadata": {},
     "output_type": "execute_result"
    }
   ],
   "source": [
    "np.arange(2,70,4)"
   ]
  },
  {
   "cell_type": "code",
   "execution_count": 36,
   "id": "8c5ec79b",
   "metadata": {},
   "outputs": [
    {
     "data": {
      "text/plain": [
       "array([[ 3,  4,  5,  6,  7,  8,  9, 10, 11, 12, 13, 14, 15, 16, 17, 18,\n",
       "        19, 20, 21, 22, 23, 24],\n",
       "       [25, 26, 27, 28, 29, 30, 31, 32, 33, 34, 35, 36, 37, 38, 39, 40,\n",
       "        41, 42, 43, 44, 45, 46],\n",
       "       [47, 48, 49, 50, 51, 52, 53, 54, 55, 56, 57, 58, 59, 60, 61, 62,\n",
       "        63, 64, 65, 66, 67, 68],\n",
       "       [69, 70, 71, 72, 73, 74, 75, 76, 77, 78, 79, 80, 81, 82, 83, 84,\n",
       "        85, 86, 87, 88, 89, 90]])"
      ]
     },
     "execution_count": 36,
     "metadata": {},
     "output_type": "execute_result"
    }
   ],
   "source": [
    "np.arange(3,91).reshape(4,22)"
   ]
  },
  {
   "cell_type": "code",
   "execution_count": 37,
   "id": "41e4f75f",
   "metadata": {},
   "outputs": [
    {
     "data": {
      "text/plain": [
       "array([0., 0., 0.])"
      ]
     },
     "execution_count": 37,
     "metadata": {},
     "output_type": "execute_result"
    }
   ],
   "source": [
    "np.zeros(3)"
   ]
  },
  {
   "cell_type": "code",
   "execution_count": 39,
   "id": "4585692b",
   "metadata": {},
   "outputs": [
    {
     "data": {
      "text/plain": [
       "array([[0., 0., 0., 0., 0., 0., 0., 0., 0.],\n",
       "       [0., 0., 0., 0., 0., 0., 0., 0., 0.],\n",
       "       [0., 0., 0., 0., 0., 0., 0., 0., 0.],\n",
       "       [0., 0., 0., 0., 0., 0., 0., 0., 0.],\n",
       "       [0., 0., 0., 0., 0., 0., 0., 0., 0.]])"
      ]
     },
     "execution_count": 39,
     "metadata": {},
     "output_type": "execute_result"
    }
   ],
   "source": [
    "np.zeros([5,9])"
   ]
  },
  {
   "cell_type": "code",
   "execution_count": 40,
   "id": "39ddd25b",
   "metadata": {},
   "outputs": [
    {
     "data": {
      "text/plain": [
       "array([20.        , 33.33333333, 46.66666667, 60.        ])"
      ]
     },
     "execution_count": 40,
     "metadata": {},
     "output_type": "execute_result"
    }
   ],
   "source": [
    "np.linspace(20,60,4)"
   ]
  },
  {
   "cell_type": "code",
   "execution_count": 51,
   "id": "5ac2b8ba",
   "metadata": {},
   "outputs": [
    {
     "data": {
      "text/plain": [
       "3"
      ]
     },
     "execution_count": 51,
     "metadata": {},
     "output_type": "execute_result"
    }
   ],
   "source": [
    "np.random.seed(4)\n",
    "np.random.randint(1,4)"
   ]
  },
  {
   "cell_type": "code",
   "execution_count": 52,
   "id": "76b5a7f7",
   "metadata": {},
   "outputs": [
    {
     "data": {
      "text/plain": [
       "array([[8, 9, 7, 3],\n",
       "       [2, 9, 2, 4],\n",
       "       [3, 4, 6, 9]])"
      ]
     },
     "execution_count": 52,
     "metadata": {},
     "output_type": "execute_result"
    }
   ],
   "source": [
    "np.random.randint(2,10,(3,4))"
   ]
  },
  {
   "cell_type": "code",
   "execution_count": 55,
   "id": "d3b35617",
   "metadata": {},
   "outputs": [
    {
     "data": {
      "text/plain": [
       "array([[2, 3, 4, 5],\n",
       "       [6, 7, 8, 9]])"
      ]
     },
     "execution_count": 55,
     "metadata": {},
     "output_type": "execute_result"
    }
   ],
   "source": [
    "np.arange(2,10).reshape(2,4)"
   ]
  },
  {
   "cell_type": "code",
   "execution_count": 56,
   "id": "c6c9aa8f",
   "metadata": {},
   "outputs": [
    {
     "data": {
      "text/plain": [
       "array([[ 0,  1,  2,  3,  4,  5,  6,  7,  8,  9],\n",
       "       [10, 11, 12, 13, 14, 15, 16, 17, 18, 19],\n",
       "       [20, 21, 22, 23, 24, 25, 26, 27, 28, 29],\n",
       "       [30, 31, 32, 33, 34, 35, 36, 37, 38, 39],\n",
       "       [40, 41, 42, 43, 44, 45, 46, 47, 48, 49],\n",
       "       [50, 51, 52, 53, 54, 55, 56, 57, 58, 59],\n",
       "       [60, 61, 62, 63, 64, 65, 66, 67, 68, 69],\n",
       "       [70, 71, 72, 73, 74, 75, 76, 77, 78, 79],\n",
       "       [80, 81, 82, 83, 84, 85, 86, 87, 88, 89],\n",
       "       [90, 91, 92, 93, 94, 95, 96, 97, 98, 99]])"
      ]
     },
     "execution_count": 56,
     "metadata": {},
     "output_type": "execute_result"
    }
   ],
   "source": [
    "arr=np.arange(0,100)\n",
    "arr.reshape(10,10)"
   ]
  },
  {
   "cell_type": "code",
   "execution_count": 60,
   "id": "47532b94",
   "metadata": {},
   "outputs": [
    {
     "data": {
      "text/plain": [
       "array([ 0,  1,  2,  3,  4,  5,  6,  7,  8,  9, 10, 11, 12, 13, 14, 15, 16,\n",
       "       17, 18, 19, 20, 21, 22, 23, 24, 25, 26, 27, 28, 29, 30, 31, 32, 33,\n",
       "       34, 35, 36, 37, 38, 39, 40, 41, 42, 43, 44, 45, 46, 47, 48, 49, 50,\n",
       "       51, 52, 53, 54, 55, 56, 57, 58, 59, 60, 61, 62, 63, 64, 65, 66, 67,\n",
       "       68, 69, 70, 71, 72, 73, 74, 75, 76, 77, 78, 79, 80, 81, 82, 83, 84,\n",
       "       85, 86, 87, 88, 89, 90, 91, 92, 93, 94, 95, 96, 97, 98, 99])"
      ]
     },
     "execution_count": 60,
     "metadata": {},
     "output_type": "execute_result"
    }
   ],
   "source": [
    "arr"
   ]
  },
  {
   "cell_type": "code",
   "execution_count": 61,
   "id": "ee0d7cd2",
   "metadata": {},
   "outputs": [],
   "source": [
    "arr=arr.reshape(10,10)"
   ]
  },
  {
   "cell_type": "code",
   "execution_count": 62,
   "id": "9c1e5054",
   "metadata": {},
   "outputs": [
    {
     "data": {
      "text/plain": [
       "array([10, 11, 12, 13, 14, 15, 16, 17, 18, 19])"
      ]
     },
     "execution_count": 62,
     "metadata": {},
     "output_type": "execute_result"
    }
   ],
   "source": [
    "arr[1,:]"
   ]
  },
  {
   "cell_type": "code",
   "execution_count": 63,
   "id": "df91ef1a",
   "metadata": {},
   "outputs": [
    {
     "data": {
      "text/plain": [
       "array([[ 0,  1,  2,  3,  4,  5,  6,  7,  8,  9],\n",
       "       [10, 11, 12, 13, 14, 15, 16, 17, 18, 19],\n",
       "       [20, 21, 22, 23, 24, 25, 26, 27, 28, 29],\n",
       "       [30, 31, 32, 33, 34, 35, 36, 37, 38, 39],\n",
       "       [40, 41, 42, 43, 44, 45, 46, 47, 48, 49],\n",
       "       [50, 51, 52, 53, 54, 55, 56, 57, 58, 59],\n",
       "       [60, 61, 62, 63, 64, 65, 66, 67, 68, 69],\n",
       "       [70, 71, 72, 73, 74, 75, 76, 77, 78, 79],\n",
       "       [80, 81, 82, 83, 84, 85, 86, 87, 88, 89],\n",
       "       [90, 91, 92, 93, 94, 95, 96, 97, 98, 99]])"
      ]
     },
     "execution_count": 63,
     "metadata": {},
     "output_type": "execute_result"
    }
   ],
   "source": [
    "arr"
   ]
  },
  {
   "cell_type": "code",
   "execution_count": 64,
   "id": "141e090c",
   "metadata": {},
   "outputs": [
    {
     "data": {
      "text/plain": [
       "array([ 8, 18, 28, 38, 48, 58, 68, 78, 88, 98])"
      ]
     },
     "execution_count": 64,
     "metadata": {},
     "output_type": "execute_result"
    }
   ],
   "source": [
    "arr[:,8]"
   ]
  },
  {
   "cell_type": "code",
   "execution_count": 68,
   "id": "05c8b738",
   "metadata": {},
   "outputs": [
    {
     "data": {
      "text/plain": [
       "array([[44, 45],\n",
       "       [54, 55],\n",
       "       [64, 65]])"
      ]
     },
     "execution_count": 68,
     "metadata": {},
     "output_type": "execute_result"
    }
   ],
   "source": [
    "arr[4:7,4:6]"
   ]
  },
  {
   "cell_type": "code",
   "execution_count": 69,
   "id": "b7987ade",
   "metadata": {},
   "outputs": [],
   "source": [
    "my_filter =arr>30"
   ]
  },
  {
   "cell_type": "code",
   "execution_count": 70,
   "id": "0cce643d",
   "metadata": {},
   "outputs": [
    {
     "data": {
      "text/plain": [
       "array([31, 32, 33, 34, 35, 36, 37, 38, 39, 40, 41, 42, 43, 44, 45, 46, 47,\n",
       "       48, 49, 50, 51, 52, 53, 54, 55, 56, 57, 58, 59, 60, 61, 62, 63, 64,\n",
       "       65, 66, 67, 68, 69, 70, 71, 72, 73, 74, 75, 76, 77, 78, 79, 80, 81,\n",
       "       82, 83, 84, 85, 86, 87, 88, 89, 90, 91, 92, 93, 94, 95, 96, 97, 98,\n",
       "       99])"
      ]
     },
     "execution_count": 70,
     "metadata": {},
     "output_type": "execute_result"
    }
   ],
   "source": [
    "arr[my_filter]"
   ]
  },
  {
   "cell_type": "code",
   "execution_count": 73,
   "id": "85c4ea1f",
   "metadata": {},
   "outputs": [
    {
     "data": {
      "text/plain": [
       "array([[79, 21, 37, 90, 73, 89,  8, 62, 44, 29],\n",
       "       [53, 20, 54, 66, 82, 65, 19, 55, 95, 20],\n",
       "       [48, 23, 19, 40, 78, 77, 49, 37,  4, 19],\n",
       "       [57, 15, 37, 30, 54, 54, 29, 80, 37, 29],\n",
       "       [ 2, 28, 96, 95, 69,  5, 71,  8, 42, 95],\n",
       "       [41, 57, 16, 19,  7, 48, 20, 39, 71, 75],\n",
       "       [17, 67, 48, 39, 76, 59, 30, 65, 31, 69],\n",
       "       [28, 91, 89, 67, 79, 28, 16,  9, 87, 86],\n",
       "       [39, 79, 27, 57, 54, 99, 58, 90, 71,  2],\n",
       "       [ 7, 75, 41, 46, 49,  2, 94, 73, 22, 88]])"
      ]
     },
     "execution_count": 73,
     "metadata": {},
     "output_type": "execute_result"
    }
   ],
   "source": [
    "mat=np.random.randint(0,100,(10,10))\n",
    "mat"
   ]
  },
  {
   "cell_type": "code",
   "execution_count": 75,
   "id": "afd688ca",
   "metadata": {},
   "outputs": [
    {
     "data": {
      "text/plain": [
       "array([79, 37, 90, 73, 89, 62, 44, 53, 54, 66, 82, 65, 55, 95, 48, 40, 78,\n",
       "       77, 49, 37, 57, 37, 54, 54, 80, 37, 96, 95, 69, 71, 42, 95, 41, 57,\n",
       "       48, 39, 71, 75, 67, 48, 39, 76, 59, 65, 31, 69, 91, 89, 67, 79, 87,\n",
       "       86, 39, 79, 57, 54, 99, 58, 90, 71, 75, 41, 46, 49, 94, 73, 88])"
      ]
     },
     "execution_count": 75,
     "metadata": {},
     "output_type": "execute_result"
    }
   ],
   "source": [
    "my_filter=mat>30\n",
    "mat[my_filter]"
   ]
  },
  {
   "cell_type": "code",
   "execution_count": 76,
   "id": "95eed2c5",
   "metadata": {},
   "outputs": [],
   "source": [
    "import pandas as pd "
   ]
  },
  {
   "cell_type": "code",
   "execution_count": 77,
   "id": "b3dff76a",
   "metadata": {},
   "outputs": [
    {
     "data": {
      "text/plain": [
       "'/Users/amodpathirana/ML Tensorflow/Tensorflow-Basics/Numpy'"
      ]
     },
     "execution_count": 77,
     "metadata": {},
     "output_type": "execute_result"
    }
   ],
   "source": [
    "pwd"
   ]
  },
  {
   "cell_type": "code",
   "execution_count": 78,
   "id": "4ec67df3",
   "metadata": {},
   "outputs": [
    {
     "name": "stdout",
     "output_type": "stream",
     "text": [
      "Numpy Crash Course .ipynb  try1.ipynb\r\n",
      "tensorflow check.ipynb\r\n"
     ]
    }
   ],
   "source": [
    "ls"
   ]
  },
  {
   "cell_type": "code",
   "execution_count": null,
   "id": "e45da798",
   "metadata": {},
   "outputs": [],
   "source": []
  }
 ],
 "metadata": {
  "kernelspec": {
   "display_name": "Python 3 (ipykernel)",
   "language": "python",
   "name": "python3"
  },
  "language_info": {
   "codemirror_mode": {
    "name": "ipython",
    "version": 3
   },
   "file_extension": ".py",
   "mimetype": "text/x-python",
   "name": "python",
   "nbconvert_exporter": "python",
   "pygments_lexer": "ipython3",
   "version": "3.7.13"
  }
 },
 "nbformat": 4,
 "nbformat_minor": 5
}
