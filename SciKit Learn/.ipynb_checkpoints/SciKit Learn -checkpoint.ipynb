{
 "cells": [
  {
   "cell_type": "markdown",
   "id": "f304b4c3",
   "metadata": {},
   "source": [
    "# SciKIt Learn "
   ]
  },
  {
   "cell_type": "code",
   "execution_count": 8,
   "id": "51f25790",
   "metadata": {},
   "outputs": [],
   "source": [
    "import numpy as np\n",
    "from sklearn.preprocessing import MinMaxScaler"
   ]
  },
  {
   "cell_type": "markdown",
   "id": "636b7086",
   "metadata": {},
   "source": [
    "Create random multi-dimentional arrray"
   ]
  },
  {
   "cell_type": "code",
   "execution_count": 9,
   "id": "a5d8f677",
   "metadata": {},
   "outputs": [
    {
     "data": {
      "text/plain": [
       "array([[58, 86, 24, 20, 70],\n",
       "       [36, 39, 73, 45, 30],\n",
       "       [38, 85, 60, 46, 19]])"
      ]
     },
     "execution_count": 9,
     "metadata": {},
     "output_type": "execute_result"
    }
   ],
   "source": [
    "data=np.random.randint(0,100,(3,5))\n",
    "data\n"
   ]
  },
  {
   "cell_type": "markdown",
   "id": "4f75e741",
   "metadata": {},
   "source": [
    "Normalize the data "
   ]
  },
  {
   "cell_type": "code",
   "execution_count": 12,
   "id": "40b5d1ba",
   "metadata": {},
   "outputs": [
    {
     "data": {
      "text/plain": [
       "MinMaxScaler()"
      ]
     },
     "execution_count": 12,
     "metadata": {},
     "output_type": "execute_result"
    }
   ],
   "source": [
    "scalar=MinMaxScaler()\n",
    "scalar.fit(data)"
   ]
  },
  {
   "cell_type": "code",
   "execution_count": 13,
   "id": "30a02f86",
   "metadata": {},
   "outputs": [
    {
     "data": {
      "text/plain": [
       "array([[1.        , 1.        , 0.        , 0.        , 1.        ],\n",
       "       [0.        , 0.        , 1.        , 0.96153846, 0.21568627],\n",
       "       [0.09090909, 0.9787234 , 0.73469388, 1.        , 0.        ]])"
      ]
     },
     "execution_count": 13,
     "metadata": {},
     "output_type": "execute_result"
    }
   ],
   "source": [
    "scalar.transform(data)"
   ]
  },
  {
   "cell_type": "code",
   "execution_count": null,
   "id": "81c7306f",
   "metadata": {},
   "outputs": [],
   "source": []
  }
 ],
 "metadata": {
  "kernelspec": {
   "display_name": "Python 3 (ipykernel)",
   "language": "python",
   "name": "python3"
  },
  "language_info": {
   "codemirror_mode": {
    "name": "ipython",
    "version": 3
   },
   "file_extension": ".py",
   "mimetype": "text/x-python",
   "name": "python",
   "nbconvert_exporter": "python",
   "pygments_lexer": "ipython3",
   "version": "3.7.13"
  }
 },
 "nbformat": 4,
 "nbformat_minor": 5
}
