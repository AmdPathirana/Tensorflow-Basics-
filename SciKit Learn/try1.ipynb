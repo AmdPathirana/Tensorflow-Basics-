{
 "cells": [
  {
   "cell_type": "code",
   "execution_count": 3,
   "id": "a6c78cae",
   "metadata": {},
   "outputs": [],
   "source": [
    "import numpy as np \n",
    "from sklearn.preprocessing import MinMaxScaler\n"
   ]
  },
  {
   "cell_type": "code",
   "execution_count": 7,
   "id": "e4a8cce4",
   "metadata": {},
   "outputs": [
    {
     "data": {
      "text/plain": [
       "array([[110, 163,  16, ..., 100, 154, 184],\n",
       "       [ 68, 176,   0, ...,  30, 185,  10],\n",
       "       [ 82, 169, 180, ...,   9,  52,  51],\n",
       "       ...,\n",
       "       [ 58, 195, 126, ..., 111,   6,  39],\n",
       "       [127,  32, 131, ...,  63, 199, 190],\n",
       "       [ 59,  73, 111, ...,   6,  47,  17]])"
      ]
     },
     "execution_count": 7,
     "metadata": {},
     "output_type": "execute_result"
    }
   ],
   "source": [
    "mat=np.random.randint(0,200,(20,68))\n",
    "mat"
   ]
  },
  {
   "cell_type": "code",
   "execution_count": 9,
   "id": "88c8a583",
   "metadata": {},
   "outputs": [
    {
     "data": {
      "text/plain": [
       "MinMaxScaler()"
      ]
     },
     "execution_count": 9,
     "metadata": {},
     "output_type": "execute_result"
    }
   ],
   "source": [
    "scaler = MinMaxScaler()\n",
    "scaler.fit(mat)"
   ]
  },
  {
   "cell_type": "code",
   "execution_count": 11,
   "id": "bfd2e47d",
   "metadata": {},
   "outputs": [
    {
     "data": {
      "text/plain": [
       "array([[0.48255814, 0.82142857, 0.08333333, ..., 0.51933702, 0.77040816,\n",
       "        0.95604396],\n",
       "       [0.23837209, 0.8877551 , 0.        , ..., 0.13259669, 0.92857143,\n",
       "        0.        ],\n",
       "       [0.31976744, 0.85204082, 0.9375    , ..., 0.01657459, 0.25      ,\n",
       "        0.22527473],\n",
       "       ...,\n",
       "       [0.18023256, 0.98469388, 0.65625   , ..., 0.5801105 , 0.01530612,\n",
       "        0.15934066],\n",
       "       [0.58139535, 0.15306122, 0.68229167, ..., 0.31491713, 1.        ,\n",
       "        0.98901099],\n",
       "       [0.18604651, 0.3622449 , 0.578125  , ..., 0.        , 0.2244898 ,\n",
       "        0.03846154]])"
      ]
     },
     "execution_count": 11,
     "metadata": {},
     "output_type": "execute_result"
    }
   ],
   "source": [
    "scaler.transform(mat)"
   ]
  },
  {
   "cell_type": "code",
   "execution_count": 12,
   "id": "7fdfa5d3",
   "metadata": {},
   "outputs": [
    {
     "data": {
      "text/plain": [
       "array([[0.48255814, 0.82142857, 0.08333333, ..., 0.51933702, 0.77040816,\n",
       "        0.95604396],\n",
       "       [0.23837209, 0.8877551 , 0.        , ..., 0.13259669, 0.92857143,\n",
       "        0.        ],\n",
       "       [0.31976744, 0.85204082, 0.9375    , ..., 0.01657459, 0.25      ,\n",
       "        0.22527473],\n",
       "       ...,\n",
       "       [0.18023256, 0.98469388, 0.65625   , ..., 0.5801105 , 0.01530612,\n",
       "        0.15934066],\n",
       "       [0.58139535, 0.15306122, 0.68229167, ..., 0.31491713, 1.        ,\n",
       "        0.98901099],\n",
       "       [0.18604651, 0.3622449 , 0.578125  , ..., 0.        , 0.2244898 ,\n",
       "        0.03846154]])"
      ]
     },
     "execution_count": 12,
     "metadata": {},
     "output_type": "execute_result"
    }
   ],
   "source": [
    "scaler.fit_transform(mat)"
   ]
  },
  {
   "cell_type": "code",
   "execution_count": 13,
   "id": "aa89acfa",
   "metadata": {},
   "outputs": [
    {
     "name": "stdout",
     "output_type": "stream",
     "text": [
      "SciKit Learn .ipynb  try1.ipynb\r\n"
     ]
    }
   ],
   "source": [
    "ls"
   ]
  },
  {
   "cell_type": "code",
   "execution_count": 16,
   "id": "06aca9f9",
   "metadata": {},
   "outputs": [
    {
     "data": {
      "text/plain": [
       "array([[155, 199,  65,  71, 338],\n",
       "       [ 82, 320, 335, 161, 295],\n",
       "       [ 83,  32, 125, 431,  90],\n",
       "       [280, 144, 106, 400, 203],\n",
       "       [146, 161, 332, 366, 245],\n",
       "       [135, 424, 358, 339,  65],\n",
       "       [333, 405,  63, 202, 198],\n",
       "       [156,  32, 357,  86, 102],\n",
       "       [139, 196, 350, 128, 386],\n",
       "       [155,  20, 113, 178,  88]])"
      ]
     },
     "execution_count": 16,
     "metadata": {},
     "output_type": "execute_result"
    }
   ],
   "source": [
    "data= np.random.randint(20,459,(10,5))\n",
    "data"
   ]
  },
  {
   "cell_type": "code",
   "execution_count": 17,
   "id": "8db5d06e",
   "metadata": {},
   "outputs": [],
   "source": [
    "import pandas as pd "
   ]
  },
  {
   "cell_type": "code",
   "execution_count": 32,
   "id": "d78b07e4",
   "metadata": {},
   "outputs": [
    {
     "data": {
      "text/html": [
       "<div>\n",
       "<style scoped>\n",
       "    .dataframe tbody tr th:only-of-type {\n",
       "        vertical-align: middle;\n",
       "    }\n",
       "\n",
       "    .dataframe tbody tr th {\n",
       "        vertical-align: top;\n",
       "    }\n",
       "\n",
       "    .dataframe thead th {\n",
       "        text-align: right;\n",
       "    }\n",
       "</style>\n",
       "<table border=\"1\" class=\"dataframe\">\n",
       "  <thead>\n",
       "    <tr style=\"text-align: right;\">\n",
       "      <th></th>\n",
       "      <th>one</th>\n",
       "      <th>two</th>\n",
       "      <th>three</th>\n",
       "      <th>four</th>\n",
       "      <th>five</th>\n",
       "    </tr>\n",
       "  </thead>\n",
       "  <tbody>\n",
       "    <tr>\n",
       "      <th>0</th>\n",
       "      <td>155</td>\n",
       "      <td>199</td>\n",
       "      <td>65</td>\n",
       "      <td>71</td>\n",
       "      <td>338</td>\n",
       "    </tr>\n",
       "    <tr>\n",
       "      <th>1</th>\n",
       "      <td>82</td>\n",
       "      <td>320</td>\n",
       "      <td>335</td>\n",
       "      <td>161</td>\n",
       "      <td>295</td>\n",
       "    </tr>\n",
       "    <tr>\n",
       "      <th>2</th>\n",
       "      <td>83</td>\n",
       "      <td>32</td>\n",
       "      <td>125</td>\n",
       "      <td>431</td>\n",
       "      <td>90</td>\n",
       "    </tr>\n",
       "    <tr>\n",
       "      <th>3</th>\n",
       "      <td>280</td>\n",
       "      <td>144</td>\n",
       "      <td>106</td>\n",
       "      <td>400</td>\n",
       "      <td>203</td>\n",
       "    </tr>\n",
       "    <tr>\n",
       "      <th>4</th>\n",
       "      <td>146</td>\n",
       "      <td>161</td>\n",
       "      <td>332</td>\n",
       "      <td>366</td>\n",
       "      <td>245</td>\n",
       "    </tr>\n",
       "    <tr>\n",
       "      <th>5</th>\n",
       "      <td>135</td>\n",
       "      <td>424</td>\n",
       "      <td>358</td>\n",
       "      <td>339</td>\n",
       "      <td>65</td>\n",
       "    </tr>\n",
       "    <tr>\n",
       "      <th>6</th>\n",
       "      <td>333</td>\n",
       "      <td>405</td>\n",
       "      <td>63</td>\n",
       "      <td>202</td>\n",
       "      <td>198</td>\n",
       "    </tr>\n",
       "    <tr>\n",
       "      <th>7</th>\n",
       "      <td>156</td>\n",
       "      <td>32</td>\n",
       "      <td>357</td>\n",
       "      <td>86</td>\n",
       "      <td>102</td>\n",
       "    </tr>\n",
       "    <tr>\n",
       "      <th>8</th>\n",
       "      <td>139</td>\n",
       "      <td>196</td>\n",
       "      <td>350</td>\n",
       "      <td>128</td>\n",
       "      <td>386</td>\n",
       "    </tr>\n",
       "    <tr>\n",
       "      <th>9</th>\n",
       "      <td>155</td>\n",
       "      <td>20</td>\n",
       "      <td>113</td>\n",
       "      <td>178</td>\n",
       "      <td>88</td>\n",
       "    </tr>\n",
       "  </tbody>\n",
       "</table>\n",
       "</div>"
      ],
      "text/plain": [
       "   one  two  three  four  five\n",
       "0  155  199     65    71   338\n",
       "1   82  320    335   161   295\n",
       "2   83   32    125   431    90\n",
       "3  280  144    106   400   203\n",
       "4  146  161    332   366   245\n",
       "5  135  424    358   339    65\n",
       "6  333  405     63   202   198\n",
       "7  156   32    357    86   102\n",
       "8  139  196    350   128   386\n",
       "9  155   20    113   178    88"
      ]
     },
     "execution_count": 32,
     "metadata": {},
     "output_type": "execute_result"
    }
   ],
   "source": [
    "df=pd.DataFrame(data=data, columns=['one', 'two', 'three', 'four', 'five'])\n",
    "df"
   ]
  },
  {
   "cell_type": "code",
   "execution_count": 33,
   "id": "430238ae",
   "metadata": {},
   "outputs": [
    {
     "data": {
      "text/plain": [
       "array([[155, 199,  65,  71, 338],\n",
       "       [ 82, 320, 335, 161, 295],\n",
       "       [ 83,  32, 125, 431,  90],\n",
       "       [280, 144, 106, 400, 203],\n",
       "       [146, 161, 332, 366, 245],\n",
       "       [135, 424, 358, 339,  65],\n",
       "       [333, 405,  63, 202, 198],\n",
       "       [156,  32, 357,  86, 102],\n",
       "       [139, 196, 350, 128, 386],\n",
       "       [155,  20, 113, 178,  88]])"
      ]
     },
     "execution_count": 33,
     "metadata": {},
     "output_type": "execute_result"
    }
   ],
   "source": [
    "df.values"
   ]
  },
  {
   "cell_type": "code",
   "execution_count": 39,
   "id": "4917981d",
   "metadata": {},
   "outputs": [
    {
     "data": {
      "text/html": [
       "<div>\n",
       "<style scoped>\n",
       "    .dataframe tbody tr th:only-of-type {\n",
       "        vertical-align: middle;\n",
       "    }\n",
       "\n",
       "    .dataframe tbody tr th {\n",
       "        vertical-align: top;\n",
       "    }\n",
       "\n",
       "    .dataframe thead th {\n",
       "        text-align: right;\n",
       "    }\n",
       "</style>\n",
       "<table border=\"1\" class=\"dataframe\">\n",
       "  <thead>\n",
       "    <tr style=\"text-align: right;\">\n",
       "      <th></th>\n",
       "      <th>one</th>\n",
       "      <th>two</th>\n",
       "      <th>three</th>\n",
       "      <th>four</th>\n",
       "      <th>five</th>\n",
       "    </tr>\n",
       "  </thead>\n",
       "  <tbody>\n",
       "    <tr>\n",
       "      <th>0</th>\n",
       "      <td>155</td>\n",
       "      <td>199</td>\n",
       "      <td>65</td>\n",
       "      <td>71</td>\n",
       "      <td>338</td>\n",
       "    </tr>\n",
       "    <tr>\n",
       "      <th>1</th>\n",
       "      <td>82</td>\n",
       "      <td>320</td>\n",
       "      <td>335</td>\n",
       "      <td>161</td>\n",
       "      <td>295</td>\n",
       "    </tr>\n",
       "    <tr>\n",
       "      <th>2</th>\n",
       "      <td>83</td>\n",
       "      <td>32</td>\n",
       "      <td>125</td>\n",
       "      <td>431</td>\n",
       "      <td>90</td>\n",
       "    </tr>\n",
       "    <tr>\n",
       "      <th>3</th>\n",
       "      <td>280</td>\n",
       "      <td>144</td>\n",
       "      <td>106</td>\n",
       "      <td>400</td>\n",
       "      <td>203</td>\n",
       "    </tr>\n",
       "    <tr>\n",
       "      <th>4</th>\n",
       "      <td>146</td>\n",
       "      <td>161</td>\n",
       "      <td>332</td>\n",
       "      <td>366</td>\n",
       "      <td>245</td>\n",
       "    </tr>\n",
       "    <tr>\n",
       "      <th>5</th>\n",
       "      <td>135</td>\n",
       "      <td>424</td>\n",
       "      <td>358</td>\n",
       "      <td>339</td>\n",
       "      <td>65</td>\n",
       "    </tr>\n",
       "    <tr>\n",
       "      <th>6</th>\n",
       "      <td>333</td>\n",
       "      <td>405</td>\n",
       "      <td>63</td>\n",
       "      <td>202</td>\n",
       "      <td>198</td>\n",
       "    </tr>\n",
       "    <tr>\n",
       "      <th>7</th>\n",
       "      <td>156</td>\n",
       "      <td>32</td>\n",
       "      <td>357</td>\n",
       "      <td>86</td>\n",
       "      <td>102</td>\n",
       "    </tr>\n",
       "    <tr>\n",
       "      <th>8</th>\n",
       "      <td>139</td>\n",
       "      <td>196</td>\n",
       "      <td>350</td>\n",
       "      <td>128</td>\n",
       "      <td>386</td>\n",
       "    </tr>\n",
       "    <tr>\n",
       "      <th>9</th>\n",
       "      <td>155</td>\n",
       "      <td>20</td>\n",
       "      <td>113</td>\n",
       "      <td>178</td>\n",
       "      <td>88</td>\n",
       "    </tr>\n",
       "  </tbody>\n",
       "</table>\n",
       "</div>"
      ],
      "text/plain": [
       "   one  two  three  four  five\n",
       "0  155  199     65    71   338\n",
       "1   82  320    335   161   295\n",
       "2   83   32    125   431    90\n",
       "3  280  144    106   400   203\n",
       "4  146  161    332   366   245\n",
       "5  135  424    358   339    65\n",
       "6  333  405     63   202   198\n",
       "7  156   32    357    86   102\n",
       "8  139  196    350   128   386\n",
       "9  155   20    113   178    88"
      ]
     },
     "execution_count": 39,
     "metadata": {},
     "output_type": "execute_result"
    }
   ],
   "source": [
    "df"
   ]
  },
  {
   "cell_type": "code",
   "execution_count": 43,
   "id": "dc9ec14b",
   "metadata": {},
   "outputs": [],
   "source": [
    "from sklearn.model_selection import train_test_split\n",
    "x=df[['one', 'two', 'three', 'four']]\n",
    "y=df['five']\n",
    "x_train, x_test, y_train, y_test =train_test_split(x,y,test_size=0.2)"
   ]
  },
  {
   "cell_type": "code",
   "execution_count": 44,
   "id": "d783f375",
   "metadata": {},
   "outputs": [
    {
     "data": {
      "text/html": [
       "<div>\n",
       "<style scoped>\n",
       "    .dataframe tbody tr th:only-of-type {\n",
       "        vertical-align: middle;\n",
       "    }\n",
       "\n",
       "    .dataframe tbody tr th {\n",
       "        vertical-align: top;\n",
       "    }\n",
       "\n",
       "    .dataframe thead th {\n",
       "        text-align: right;\n",
       "    }\n",
       "</style>\n",
       "<table border=\"1\" class=\"dataframe\">\n",
       "  <thead>\n",
       "    <tr style=\"text-align: right;\">\n",
       "      <th></th>\n",
       "      <th>one</th>\n",
       "      <th>two</th>\n",
       "      <th>three</th>\n",
       "      <th>four</th>\n",
       "    </tr>\n",
       "  </thead>\n",
       "  <tbody>\n",
       "    <tr>\n",
       "      <th>6</th>\n",
       "      <td>333</td>\n",
       "      <td>405</td>\n",
       "      <td>63</td>\n",
       "      <td>202</td>\n",
       "    </tr>\n",
       "    <tr>\n",
       "      <th>3</th>\n",
       "      <td>280</td>\n",
       "      <td>144</td>\n",
       "      <td>106</td>\n",
       "      <td>400</td>\n",
       "    </tr>\n",
       "    <tr>\n",
       "      <th>0</th>\n",
       "      <td>155</td>\n",
       "      <td>199</td>\n",
       "      <td>65</td>\n",
       "      <td>71</td>\n",
       "    </tr>\n",
       "    <tr>\n",
       "      <th>1</th>\n",
       "      <td>82</td>\n",
       "      <td>320</td>\n",
       "      <td>335</td>\n",
       "      <td>161</td>\n",
       "    </tr>\n",
       "    <tr>\n",
       "      <th>8</th>\n",
       "      <td>139</td>\n",
       "      <td>196</td>\n",
       "      <td>350</td>\n",
       "      <td>128</td>\n",
       "    </tr>\n",
       "    <tr>\n",
       "      <th>7</th>\n",
       "      <td>156</td>\n",
       "      <td>32</td>\n",
       "      <td>357</td>\n",
       "      <td>86</td>\n",
       "    </tr>\n",
       "    <tr>\n",
       "      <th>2</th>\n",
       "      <td>83</td>\n",
       "      <td>32</td>\n",
       "      <td>125</td>\n",
       "      <td>431</td>\n",
       "    </tr>\n",
       "    <tr>\n",
       "      <th>4</th>\n",
       "      <td>146</td>\n",
       "      <td>161</td>\n",
       "      <td>332</td>\n",
       "      <td>366</td>\n",
       "    </tr>\n",
       "  </tbody>\n",
       "</table>\n",
       "</div>"
      ],
      "text/plain": [
       "   one  two  three  four\n",
       "6  333  405     63   202\n",
       "3  280  144    106   400\n",
       "0  155  199     65    71\n",
       "1   82  320    335   161\n",
       "8  139  196    350   128\n",
       "7  156   32    357    86\n",
       "2   83   32    125   431\n",
       "4  146  161    332   366"
      ]
     },
     "execution_count": 44,
     "metadata": {},
     "output_type": "execute_result"
    }
   ],
   "source": [
    "x_train"
   ]
  },
  {
   "cell_type": "code",
   "execution_count": 45,
   "id": "9a8b572a",
   "metadata": {},
   "outputs": [
    {
     "data": {
      "text/plain": [
       "6    198\n",
       "3    203\n",
       "0    338\n",
       "1    295\n",
       "8    386\n",
       "7    102\n",
       "2     90\n",
       "4    245\n",
       "Name: five, dtype: int64"
      ]
     },
     "execution_count": 45,
     "metadata": {},
     "output_type": "execute_result"
    }
   ],
   "source": [
    "y_train"
   ]
  },
  {
   "cell_type": "code",
   "execution_count": null,
   "id": "d70fbabc",
   "metadata": {},
   "outputs": [],
   "source": []
  }
 ],
 "metadata": {
  "kernelspec": {
   "display_name": "Python 3 (ipykernel)",
   "language": "python",
   "name": "python3"
  },
  "language_info": {
   "codemirror_mode": {
    "name": "ipython",
    "version": 3
   },
   "file_extension": ".py",
   "mimetype": "text/x-python",
   "name": "python",
   "nbconvert_exporter": "python",
   "pygments_lexer": "ipython3",
   "version": "3.7.13"
  }
 },
 "nbformat": 4,
 "nbformat_minor": 5
}
