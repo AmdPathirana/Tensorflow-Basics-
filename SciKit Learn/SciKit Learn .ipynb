{
 "cells": [
  {
   "cell_type": "markdown",
   "id": "b2cd608e",
   "metadata": {},
   "source": [
    "# SciKIt Learn "
   ]
  },
  {
   "cell_type": "code",
   "execution_count": 1,
   "id": "29d3ace0",
   "metadata": {},
   "outputs": [],
   "source": [
    "import numpy as np\n",
    "from sklearn.preprocessing import MinMaxScaler"
   ]
  },
  {
   "cell_type": "markdown",
   "id": "16e5f3b4",
   "metadata": {},
   "source": [
    "Create random multi-dimentional arrray"
   ]
  },
  {
   "cell_type": "code",
   "execution_count": 2,
   "id": "a6585fe8",
   "metadata": {},
   "outputs": [
    {
     "data": {
      "text/plain": [
       "array([[ 5, 73, 72, 34, 12],\n",
       "       [22, 79, 83, 82, 84],\n",
       "       [56, 15, 37, 98, 74]])"
      ]
     },
     "execution_count": 2,
     "metadata": {},
     "output_type": "execute_result"
    }
   ],
   "source": [
    "data=np.random.randint(0,100,(3,5))\n",
    "data\n"
   ]
  },
  {
   "cell_type": "markdown",
   "id": "b08d5da7",
   "metadata": {},
   "source": [
    "Normalize the data "
   ]
  },
  {
   "cell_type": "code",
   "execution_count": 3,
   "id": "882f4d0a",
   "metadata": {},
   "outputs": [
    {
     "data": {
      "text/plain": [
       "MinMaxScaler()"
      ]
     },
     "execution_count": 3,
     "metadata": {},
     "output_type": "execute_result"
    }
   ],
   "source": [
    "scalar=MinMaxScaler()\n",
    "scalar.fit(data)"
   ]
  },
  {
   "cell_type": "code",
   "execution_count": 4,
   "id": "67fdb3b9",
   "metadata": {},
   "outputs": [
    {
     "data": {
      "text/plain": [
       "array([[0.        , 0.90625   , 0.76086957, 0.        , 0.        ],\n",
       "       [0.33333333, 1.        , 1.        , 0.75      , 1.        ],\n",
       "       [1.        , 0.        , 0.        , 1.        , 0.86111111]])"
      ]
     },
     "execution_count": 4,
     "metadata": {},
     "output_type": "execute_result"
    }
   ],
   "source": [
    "scalar.transform(data)"
   ]
  },
  {
   "cell_type": "code",
   "execution_count": 5,
   "id": "5f2c7e3e",
   "metadata": {},
   "outputs": [
    {
     "data": {
      "text/plain": [
       "array([[0.        , 0.90625   , 0.76086957, 0.        , 0.        ],\n",
       "       [0.33333333, 1.        , 1.        , 0.75      , 1.        ],\n",
       "       [1.        , 0.        , 0.        , 1.        , 0.86111111]])"
      ]
     },
     "execution_count": 5,
     "metadata": {},
     "output_type": "execute_result"
    }
   ],
   "source": [
    "scalar.fit_transform(data)"
   ]
  },
  {
   "cell_type": "markdown",
   "id": "65914352",
   "metadata": {},
   "source": [
    "# Create a dataframe "
   ]
  },
  {
   "cell_type": "code",
   "execution_count": 6,
   "id": "92379ee1",
   "metadata": {},
   "outputs": [],
   "source": [
    "import pandas as pd"
   ]
  },
  {
   "cell_type": "code",
   "execution_count": 7,
   "id": "40961f5f",
   "metadata": {},
   "outputs": [],
   "source": [
    "my_data=np.random.randint(0,100,(100,6))"
   ]
  },
  {
   "cell_type": "code",
   "execution_count": 8,
   "id": "b5d90a3f",
   "metadata": {},
   "outputs": [],
   "source": [
    "df=pd.DataFrame(data=my_data, columns =['f1', 'f2', 'f3', 'f4', 'f5', 'f6'])"
   ]
  },
  {
   "cell_type": "code",
   "execution_count": 9,
   "id": "28fd4a38",
   "metadata": {},
   "outputs": [
    {
     "data": {
      "text/html": [
       "<div>\n",
       "<style scoped>\n",
       "    .dataframe tbody tr th:only-of-type {\n",
       "        vertical-align: middle;\n",
       "    }\n",
       "\n",
       "    .dataframe tbody tr th {\n",
       "        vertical-align: top;\n",
       "    }\n",
       "\n",
       "    .dataframe thead th {\n",
       "        text-align: right;\n",
       "    }\n",
       "</style>\n",
       "<table border=\"1\" class=\"dataframe\">\n",
       "  <thead>\n",
       "    <tr style=\"text-align: right;\">\n",
       "      <th></th>\n",
       "      <th>f1</th>\n",
       "      <th>f2</th>\n",
       "      <th>f3</th>\n",
       "      <th>f4</th>\n",
       "      <th>f5</th>\n",
       "      <th>f6</th>\n",
       "    </tr>\n",
       "  </thead>\n",
       "  <tbody>\n",
       "    <tr>\n",
       "      <th>0</th>\n",
       "      <td>37</td>\n",
       "      <td>40</td>\n",
       "      <td>49</td>\n",
       "      <td>62</td>\n",
       "      <td>5</td>\n",
       "      <td>32</td>\n",
       "    </tr>\n",
       "    <tr>\n",
       "      <th>1</th>\n",
       "      <td>65</td>\n",
       "      <td>41</td>\n",
       "      <td>23</td>\n",
       "      <td>58</td>\n",
       "      <td>53</td>\n",
       "      <td>26</td>\n",
       "    </tr>\n",
       "    <tr>\n",
       "      <th>2</th>\n",
       "      <td>92</td>\n",
       "      <td>9</td>\n",
       "      <td>55</td>\n",
       "      <td>4</td>\n",
       "      <td>35</td>\n",
       "      <td>52</td>\n",
       "    </tr>\n",
       "    <tr>\n",
       "      <th>3</th>\n",
       "      <td>49</td>\n",
       "      <td>75</td>\n",
       "      <td>98</td>\n",
       "      <td>26</td>\n",
       "      <td>87</td>\n",
       "      <td>59</td>\n",
       "    </tr>\n",
       "    <tr>\n",
       "      <th>4</th>\n",
       "      <td>13</td>\n",
       "      <td>36</td>\n",
       "      <td>66</td>\n",
       "      <td>71</td>\n",
       "      <td>54</td>\n",
       "      <td>90</td>\n",
       "    </tr>\n",
       "    <tr>\n",
       "      <th>...</th>\n",
       "      <td>...</td>\n",
       "      <td>...</td>\n",
       "      <td>...</td>\n",
       "      <td>...</td>\n",
       "      <td>...</td>\n",
       "      <td>...</td>\n",
       "    </tr>\n",
       "    <tr>\n",
       "      <th>95</th>\n",
       "      <td>69</td>\n",
       "      <td>62</td>\n",
       "      <td>47</td>\n",
       "      <td>52</td>\n",
       "      <td>48</td>\n",
       "      <td>79</td>\n",
       "    </tr>\n",
       "    <tr>\n",
       "      <th>96</th>\n",
       "      <td>79</td>\n",
       "      <td>36</td>\n",
       "      <td>61</td>\n",
       "      <td>52</td>\n",
       "      <td>3</td>\n",
       "      <td>14</td>\n",
       "    </tr>\n",
       "    <tr>\n",
       "      <th>97</th>\n",
       "      <td>37</td>\n",
       "      <td>6</td>\n",
       "      <td>93</td>\n",
       "      <td>46</td>\n",
       "      <td>30</td>\n",
       "      <td>94</td>\n",
       "    </tr>\n",
       "    <tr>\n",
       "      <th>98</th>\n",
       "      <td>94</td>\n",
       "      <td>20</td>\n",
       "      <td>51</td>\n",
       "      <td>83</td>\n",
       "      <td>74</td>\n",
       "      <td>75</td>\n",
       "    </tr>\n",
       "    <tr>\n",
       "      <th>99</th>\n",
       "      <td>46</td>\n",
       "      <td>43</td>\n",
       "      <td>21</td>\n",
       "      <td>61</td>\n",
       "      <td>35</td>\n",
       "      <td>39</td>\n",
       "    </tr>\n",
       "  </tbody>\n",
       "</table>\n",
       "<p>100 rows × 6 columns</p>\n",
       "</div>"
      ],
      "text/plain": [
       "    f1  f2  f3  f4  f5  f6\n",
       "0   37  40  49  62   5  32\n",
       "1   65  41  23  58  53  26\n",
       "2   92   9  55   4  35  52\n",
       "3   49  75  98  26  87  59\n",
       "4   13  36  66  71  54  90\n",
       "..  ..  ..  ..  ..  ..  ..\n",
       "95  69  62  47  52  48  79\n",
       "96  79  36  61  52   3  14\n",
       "97  37   6  93  46  30  94\n",
       "98  94  20  51  83  74  75\n",
       "99  46  43  21  61  35  39\n",
       "\n",
       "[100 rows x 6 columns]"
      ]
     },
     "execution_count": 9,
     "metadata": {},
     "output_type": "execute_result"
    }
   ],
   "source": [
    "df"
   ]
  },
  {
   "cell_type": "markdown",
   "id": "9c5cf10f",
   "metadata": {},
   "source": [
    "# Create a data frame and conver it Train and Test data sets "
   ]
  },
  {
   "cell_type": "code",
   "execution_count": 10,
   "id": "1afb185c",
   "metadata": {},
   "outputs": [],
   "source": [
    "data=np.random.randint(4000,39100,(1000,4))"
   ]
  },
  {
   "cell_type": "code",
   "execution_count": 11,
   "id": "6123b56a",
   "metadata": {},
   "outputs": [
    {
     "data": {
      "text/html": [
       "<div>\n",
       "<style scoped>\n",
       "    .dataframe tbody tr th:only-of-type {\n",
       "        vertical-align: middle;\n",
       "    }\n",
       "\n",
       "    .dataframe tbody tr th {\n",
       "        vertical-align: top;\n",
       "    }\n",
       "\n",
       "    .dataframe thead th {\n",
       "        text-align: right;\n",
       "    }\n",
       "</style>\n",
       "<table border=\"1\" class=\"dataframe\">\n",
       "  <thead>\n",
       "    <tr style=\"text-align: right;\">\n",
       "      <th></th>\n",
       "      <th>f1</th>\n",
       "      <th>f2</th>\n",
       "      <th>f3</th>\n",
       "      <th>lable</th>\n",
       "    </tr>\n",
       "  </thead>\n",
       "  <tbody>\n",
       "    <tr>\n",
       "      <th>0</th>\n",
       "      <td>5508</td>\n",
       "      <td>13549</td>\n",
       "      <td>12084</td>\n",
       "      <td>6705</td>\n",
       "    </tr>\n",
       "    <tr>\n",
       "      <th>1</th>\n",
       "      <td>10065</td>\n",
       "      <td>34184</td>\n",
       "      <td>11869</td>\n",
       "      <td>13194</td>\n",
       "    </tr>\n",
       "    <tr>\n",
       "      <th>2</th>\n",
       "      <td>24420</td>\n",
       "      <td>12309</td>\n",
       "      <td>30883</td>\n",
       "      <td>22402</td>\n",
       "    </tr>\n",
       "    <tr>\n",
       "      <th>3</th>\n",
       "      <td>23418</td>\n",
       "      <td>7079</td>\n",
       "      <td>21303</td>\n",
       "      <td>29261</td>\n",
       "    </tr>\n",
       "    <tr>\n",
       "      <th>4</th>\n",
       "      <td>5204</td>\n",
       "      <td>14887</td>\n",
       "      <td>20863</td>\n",
       "      <td>19372</td>\n",
       "    </tr>\n",
       "  </tbody>\n",
       "</table>\n",
       "</div>"
      ],
      "text/plain": [
       "      f1     f2     f3  lable\n",
       "0   5508  13549  12084   6705\n",
       "1  10065  34184  11869  13194\n",
       "2  24420  12309  30883  22402\n",
       "3  23418   7079  21303  29261\n",
       "4   5204  14887  20863  19372"
      ]
     },
     "execution_count": 11,
     "metadata": {},
     "output_type": "execute_result"
    }
   ],
   "source": [
    "df=pd.DataFrame(data=data, columns=['f1', 'f2', 'f3', 'lable'])\n",
    "df.head()"
   ]
  },
  {
   "cell_type": "code",
   "execution_count": 12,
   "id": "462b92bc",
   "metadata": {},
   "outputs": [],
   "source": [
    "from sklearn.model_selection import train_test_split"
   ]
  },
  {
   "cell_type": "code",
   "execution_count": 14,
   "id": "37c27a5c",
   "metadata": {},
   "outputs": [],
   "source": [
    "x=df[['f1', 'f2' ,'f3']]"
   ]
  },
  {
   "cell_type": "code",
   "execution_count": 15,
   "id": "44d6d6ca",
   "metadata": {},
   "outputs": [],
   "source": [
    "y=df['lable']"
   ]
  },
  {
   "cell_type": "code",
   "execution_count": 16,
   "id": "a94cd616",
   "metadata": {},
   "outputs": [],
   "source": [
    "x_train, x_test, y_train, y_test =train_test_split(x,y,test_size=0.3)"
   ]
  },
  {
   "cell_type": "code",
   "execution_count": 17,
   "id": "b8fdeeea",
   "metadata": {},
   "outputs": [
    {
     "data": {
      "text/html": [
       "<div>\n",
       "<style scoped>\n",
       "    .dataframe tbody tr th:only-of-type {\n",
       "        vertical-align: middle;\n",
       "    }\n",
       "\n",
       "    .dataframe tbody tr th {\n",
       "        vertical-align: top;\n",
       "    }\n",
       "\n",
       "    .dataframe thead th {\n",
       "        text-align: right;\n",
       "    }\n",
       "</style>\n",
       "<table border=\"1\" class=\"dataframe\">\n",
       "  <thead>\n",
       "    <tr style=\"text-align: right;\">\n",
       "      <th></th>\n",
       "      <th>f1</th>\n",
       "      <th>f2</th>\n",
       "      <th>f3</th>\n",
       "    </tr>\n",
       "  </thead>\n",
       "  <tbody>\n",
       "    <tr>\n",
       "      <th>309</th>\n",
       "      <td>38308</td>\n",
       "      <td>32619</td>\n",
       "      <td>23968</td>\n",
       "    </tr>\n",
       "    <tr>\n",
       "      <th>396</th>\n",
       "      <td>4506</td>\n",
       "      <td>12518</td>\n",
       "      <td>27180</td>\n",
       "    </tr>\n",
       "    <tr>\n",
       "      <th>274</th>\n",
       "      <td>17822</td>\n",
       "      <td>20011</td>\n",
       "      <td>30010</td>\n",
       "    </tr>\n",
       "    <tr>\n",
       "      <th>734</th>\n",
       "      <td>6794</td>\n",
       "      <td>36269</td>\n",
       "      <td>22048</td>\n",
       "    </tr>\n",
       "    <tr>\n",
       "      <th>516</th>\n",
       "      <td>35821</td>\n",
       "      <td>24919</td>\n",
       "      <td>21245</td>\n",
       "    </tr>\n",
       "  </tbody>\n",
       "</table>\n",
       "</div>"
      ],
      "text/plain": [
       "        f1     f2     f3\n",
       "309  38308  32619  23968\n",
       "396   4506  12518  27180\n",
       "274  17822  20011  30010\n",
       "734   6794  36269  22048\n",
       "516  35821  24919  21245"
      ]
     },
     "execution_count": 17,
     "metadata": {},
     "output_type": "execute_result"
    }
   ],
   "source": [
    "x_train.head()"
   ]
  },
  {
   "cell_type": "code",
   "execution_count": 18,
   "id": "1e61baab",
   "metadata": {},
   "outputs": [
    {
     "data": {
      "text/html": [
       "<div>\n",
       "<style scoped>\n",
       "    .dataframe tbody tr th:only-of-type {\n",
       "        vertical-align: middle;\n",
       "    }\n",
       "\n",
       "    .dataframe tbody tr th {\n",
       "        vertical-align: top;\n",
       "    }\n",
       "\n",
       "    .dataframe thead th {\n",
       "        text-align: right;\n",
       "    }\n",
       "</style>\n",
       "<table border=\"1\" class=\"dataframe\">\n",
       "  <thead>\n",
       "    <tr style=\"text-align: right;\">\n",
       "      <th></th>\n",
       "      <th>f1</th>\n",
       "      <th>f2</th>\n",
       "      <th>f3</th>\n",
       "    </tr>\n",
       "  </thead>\n",
       "  <tbody>\n",
       "    <tr>\n",
       "      <th>309</th>\n",
       "      <td>38308</td>\n",
       "      <td>32619</td>\n",
       "      <td>23968</td>\n",
       "    </tr>\n",
       "    <tr>\n",
       "      <th>396</th>\n",
       "      <td>4506</td>\n",
       "      <td>12518</td>\n",
       "      <td>27180</td>\n",
       "    </tr>\n",
       "    <tr>\n",
       "      <th>274</th>\n",
       "      <td>17822</td>\n",
       "      <td>20011</td>\n",
       "      <td>30010</td>\n",
       "    </tr>\n",
       "    <tr>\n",
       "      <th>734</th>\n",
       "      <td>6794</td>\n",
       "      <td>36269</td>\n",
       "      <td>22048</td>\n",
       "    </tr>\n",
       "    <tr>\n",
       "      <th>516</th>\n",
       "      <td>35821</td>\n",
       "      <td>24919</td>\n",
       "      <td>21245</td>\n",
       "    </tr>\n",
       "    <tr>\n",
       "      <th>...</th>\n",
       "      <td>...</td>\n",
       "      <td>...</td>\n",
       "      <td>...</td>\n",
       "    </tr>\n",
       "    <tr>\n",
       "      <th>700</th>\n",
       "      <td>25922</td>\n",
       "      <td>37391</td>\n",
       "      <td>27856</td>\n",
       "    </tr>\n",
       "    <tr>\n",
       "      <th>40</th>\n",
       "      <td>22402</td>\n",
       "      <td>27701</td>\n",
       "      <td>5829</td>\n",
       "    </tr>\n",
       "    <tr>\n",
       "      <th>248</th>\n",
       "      <td>18449</td>\n",
       "      <td>15038</td>\n",
       "      <td>7662</td>\n",
       "    </tr>\n",
       "    <tr>\n",
       "      <th>473</th>\n",
       "      <td>21555</td>\n",
       "      <td>32670</td>\n",
       "      <td>11375</td>\n",
       "    </tr>\n",
       "    <tr>\n",
       "      <th>615</th>\n",
       "      <td>8961</td>\n",
       "      <td>35728</td>\n",
       "      <td>38292</td>\n",
       "    </tr>\n",
       "  </tbody>\n",
       "</table>\n",
       "<p>700 rows × 3 columns</p>\n",
       "</div>"
      ],
      "text/plain": [
       "        f1     f2     f3\n",
       "309  38308  32619  23968\n",
       "396   4506  12518  27180\n",
       "274  17822  20011  30010\n",
       "734   6794  36269  22048\n",
       "516  35821  24919  21245\n",
       "..     ...    ...    ...\n",
       "700  25922  37391  27856\n",
       "40   22402  27701   5829\n",
       "248  18449  15038   7662\n",
       "473  21555  32670  11375\n",
       "615   8961  35728  38292\n",
       "\n",
       "[700 rows x 3 columns]"
      ]
     },
     "execution_count": 18,
     "metadata": {},
     "output_type": "execute_result"
    }
   ],
   "source": [
    "x_train"
   ]
  },
  {
   "cell_type": "code",
   "execution_count": 19,
   "id": "a29027ab",
   "metadata": {},
   "outputs": [
    {
     "data": {
      "text/html": [
       "<div>\n",
       "<style scoped>\n",
       "    .dataframe tbody tr th:only-of-type {\n",
       "        vertical-align: middle;\n",
       "    }\n",
       "\n",
       "    .dataframe tbody tr th {\n",
       "        vertical-align: top;\n",
       "    }\n",
       "\n",
       "    .dataframe thead th {\n",
       "        text-align: right;\n",
       "    }\n",
       "</style>\n",
       "<table border=\"1\" class=\"dataframe\">\n",
       "  <thead>\n",
       "    <tr style=\"text-align: right;\">\n",
       "      <th></th>\n",
       "      <th>f1</th>\n",
       "      <th>f2</th>\n",
       "      <th>f3</th>\n",
       "    </tr>\n",
       "  </thead>\n",
       "  <tbody>\n",
       "    <tr>\n",
       "      <th>555</th>\n",
       "      <td>6667</td>\n",
       "      <td>21032</td>\n",
       "      <td>30707</td>\n",
       "    </tr>\n",
       "    <tr>\n",
       "      <th>994</th>\n",
       "      <td>6103</td>\n",
       "      <td>10016</td>\n",
       "      <td>5167</td>\n",
       "    </tr>\n",
       "    <tr>\n",
       "      <th>669</th>\n",
       "      <td>21767</td>\n",
       "      <td>34135</td>\n",
       "      <td>38775</td>\n",
       "    </tr>\n",
       "    <tr>\n",
       "      <th>412</th>\n",
       "      <td>16664</td>\n",
       "      <td>25996</td>\n",
       "      <td>38517</td>\n",
       "    </tr>\n",
       "    <tr>\n",
       "      <th>399</th>\n",
       "      <td>30433</td>\n",
       "      <td>33949</td>\n",
       "      <td>24531</td>\n",
       "    </tr>\n",
       "    <tr>\n",
       "      <th>...</th>\n",
       "      <td>...</td>\n",
       "      <td>...</td>\n",
       "      <td>...</td>\n",
       "    </tr>\n",
       "    <tr>\n",
       "      <th>344</th>\n",
       "      <td>10250</td>\n",
       "      <td>17918</td>\n",
       "      <td>25355</td>\n",
       "    </tr>\n",
       "    <tr>\n",
       "      <th>872</th>\n",
       "      <td>12914</td>\n",
       "      <td>6238</td>\n",
       "      <td>29398</td>\n",
       "    </tr>\n",
       "    <tr>\n",
       "      <th>467</th>\n",
       "      <td>34601</td>\n",
       "      <td>19134</td>\n",
       "      <td>24546</td>\n",
       "    </tr>\n",
       "    <tr>\n",
       "      <th>572</th>\n",
       "      <td>18704</td>\n",
       "      <td>29681</td>\n",
       "      <td>5574</td>\n",
       "    </tr>\n",
       "    <tr>\n",
       "      <th>993</th>\n",
       "      <td>15334</td>\n",
       "      <td>33278</td>\n",
       "      <td>20390</td>\n",
       "    </tr>\n",
       "  </tbody>\n",
       "</table>\n",
       "<p>300 rows × 3 columns</p>\n",
       "</div>"
      ],
      "text/plain": [
       "        f1     f2     f3\n",
       "555   6667  21032  30707\n",
       "994   6103  10016   5167\n",
       "669  21767  34135  38775\n",
       "412  16664  25996  38517\n",
       "399  30433  33949  24531\n",
       "..     ...    ...    ...\n",
       "344  10250  17918  25355\n",
       "872  12914   6238  29398\n",
       "467  34601  19134  24546\n",
       "572  18704  29681   5574\n",
       "993  15334  33278  20390\n",
       "\n",
       "[300 rows x 3 columns]"
      ]
     },
     "execution_count": 19,
     "metadata": {},
     "output_type": "execute_result"
    }
   ],
   "source": [
    "x_test"
   ]
  },
  {
   "cell_type": "code",
   "execution_count": 20,
   "id": "8f56a205",
   "metadata": {},
   "outputs": [
    {
     "data": {
      "text/plain": [
       "309     8787\n",
       "396    35717\n",
       "274    39061\n",
       "734    10475\n",
       "516     4384\n",
       "       ...  \n",
       "700    22369\n",
       "40      4080\n",
       "248    23341\n",
       "473    31166\n",
       "615    25799\n",
       "Name: lable, Length: 700, dtype: int64"
      ]
     },
     "execution_count": 20,
     "metadata": {},
     "output_type": "execute_result"
    }
   ],
   "source": [
    "y_train"
   ]
  },
  {
   "cell_type": "code",
   "execution_count": 21,
   "id": "b19012dd",
   "metadata": {},
   "outputs": [
    {
     "data": {
      "text/plain": [
       "555     7175\n",
       "994    21785\n",
       "669    19920\n",
       "412    21573\n",
       "399    12345\n",
       "       ...  \n",
       "344    10389\n",
       "872    38655\n",
       "467    24194\n",
       "572    18944\n",
       "993    28579\n",
       "Name: lable, Length: 300, dtype: int64"
      ]
     },
     "execution_count": 21,
     "metadata": {},
     "output_type": "execute_result"
    }
   ],
   "source": [
    "y_test"
   ]
  },
  {
   "cell_type": "code",
   "execution_count": null,
   "id": "4b371fbb",
   "metadata": {},
   "outputs": [],
   "source": []
  }
 ],
 "metadata": {
  "kernelspec": {
   "display_name": "Python 3 (ipykernel)",
   "language": "python",
   "name": "python3"
  },
  "language_info": {
   "codemirror_mode": {
    "name": "ipython",
    "version": 3
   },
   "file_extension": ".py",
   "mimetype": "text/x-python",
   "name": "python",
   "nbconvert_exporter": "python",
   "pygments_lexer": "ipython3",
   "version": "3.7.13"
  }
 },
 "nbformat": 4,
 "nbformat_minor": 5
}
