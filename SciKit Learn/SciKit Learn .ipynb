{
 "cells": [
  {
   "cell_type": "markdown",
   "id": "b2cd608e",
   "metadata": {},
   "source": [
    "# SciKIt Learn "
   ]
  },
  {
   "cell_type": "code",
   "execution_count": 8,
   "id": "29d3ace0",
   "metadata": {},
   "outputs": [],
   "source": [
    "import numpy as np\n",
    "from sklearn.preprocessing import MinMaxScaler"
   ]
  },
  {
   "cell_type": "markdown",
   "id": "16e5f3b4",
   "metadata": {},
   "source": [
    "Create random multi-dimentional arrray"
   ]
  },
  {
   "cell_type": "code",
   "execution_count": 9,
   "id": "a6585fe8",
   "metadata": {},
   "outputs": [
    {
     "data": {
      "text/plain": [
       "array([[58, 86, 24, 20, 70],\n",
       "       [36, 39, 73, 45, 30],\n",
       "       [38, 85, 60, 46, 19]])"
      ]
     },
     "execution_count": 9,
     "metadata": {},
     "output_type": "execute_result"
    }
   ],
   "source": [
    "data=np.random.randint(0,100,(3,5))\n",
    "data\n"
   ]
  },
  {
   "cell_type": "markdown",
   "id": "b08d5da7",
   "metadata": {},
   "source": [
    "Normalize the data "
   ]
  },
  {
   "cell_type": "code",
   "execution_count": 12,
   "id": "882f4d0a",
   "metadata": {},
   "outputs": [
    {
     "data": {
      "text/plain": [
       "MinMaxScaler()"
      ]
     },
     "execution_count": 12,
     "metadata": {},
     "output_type": "execute_result"
    }
   ],
   "source": [
    "scalar=MinMaxScaler()\n",
    "scalar.fit(data)"
   ]
  },
  {
   "cell_type": "code",
   "execution_count": 13,
   "id": "67fdb3b9",
   "metadata": {},
   "outputs": [
    {
     "data": {
      "text/plain": [
       "array([[1.        , 1.        , 0.        , 0.        , 1.        ],\n",
       "       [0.        , 0.        , 1.        , 0.96153846, 0.21568627],\n",
       "       [0.09090909, 0.9787234 , 0.73469388, 1.        , 0.        ]])"
      ]
     },
     "execution_count": 13,
     "metadata": {},
     "output_type": "execute_result"
    }
   ],
   "source": [
    "scalar.transform(data)"
   ]
  },
  {
   "cell_type": "code",
   "execution_count": 14,
   "id": "5f2c7e3e",
   "metadata": {},
   "outputs": [
    {
     "data": {
      "text/plain": [
       "array([[1.        , 1.        , 0.        , 0.        , 1.        ],\n",
       "       [0.        , 0.        , 1.        , 0.96153846, 0.21568627],\n",
       "       [0.09090909, 0.9787234 , 0.73469388, 1.        , 0.        ]])"
      ]
     },
     "execution_count": 14,
     "metadata": {},
     "output_type": "execute_result"
    }
   ],
   "source": [
    "scalar.fit_transform(data)"
   ]
  },
  {
   "cell_type": "markdown",
   "id": "65914352",
   "metadata": {},
   "source": [
    "# Create a dataframe "
   ]
  },
  {
   "cell_type": "code",
   "execution_count": 17,
   "id": "92379ee1",
   "metadata": {},
   "outputs": [],
   "source": [
    "import pandas as pd"
   ]
  },
  {
   "cell_type": "code",
   "execution_count": 21,
   "id": "40961f5f",
   "metadata": {},
   "outputs": [],
   "source": [
    "my_data=np.random.randint(0,100,(100,6))"
   ]
  },
  {
   "cell_type": "code",
   "execution_count": 22,
   "id": "b5d90a3f",
   "metadata": {},
   "outputs": [],
   "source": [
    "df=pd.DataFrame(data=my_data, columns =['f1', 'f2', 'f3', 'f4', 'f5', 'f6'])"
   ]
  },
  {
   "cell_type": "code",
   "execution_count": 23,
   "id": "28fd4a38",
   "metadata": {},
   "outputs": [
    {
     "data": {
      "text/html": [
       "<div>\n",
       "<style scoped>\n",
       "    .dataframe tbody tr th:only-of-type {\n",
       "        vertical-align: middle;\n",
       "    }\n",
       "\n",
       "    .dataframe tbody tr th {\n",
       "        vertical-align: top;\n",
       "    }\n",
       "\n",
       "    .dataframe thead th {\n",
       "        text-align: right;\n",
       "    }\n",
       "</style>\n",
       "<table border=\"1\" class=\"dataframe\">\n",
       "  <thead>\n",
       "    <tr style=\"text-align: right;\">\n",
       "      <th></th>\n",
       "      <th>f1</th>\n",
       "      <th>f2</th>\n",
       "      <th>f3</th>\n",
       "      <th>f4</th>\n",
       "      <th>f5</th>\n",
       "      <th>f6</th>\n",
       "    </tr>\n",
       "  </thead>\n",
       "  <tbody>\n",
       "    <tr>\n",
       "      <th>0</th>\n",
       "      <td>37</td>\n",
       "      <td>78</td>\n",
       "      <td>88</td>\n",
       "      <td>74</td>\n",
       "      <td>15</td>\n",
       "      <td>70</td>\n",
       "    </tr>\n",
       "    <tr>\n",
       "      <th>1</th>\n",
       "      <td>70</td>\n",
       "      <td>2</td>\n",
       "      <td>86</td>\n",
       "      <td>49</td>\n",
       "      <td>58</td>\n",
       "      <td>65</td>\n",
       "    </tr>\n",
       "    <tr>\n",
       "      <th>2</th>\n",
       "      <td>83</td>\n",
       "      <td>47</td>\n",
       "      <td>21</td>\n",
       "      <td>42</td>\n",
       "      <td>15</td>\n",
       "      <td>27</td>\n",
       "    </tr>\n",
       "    <tr>\n",
       "      <th>3</th>\n",
       "      <td>82</td>\n",
       "      <td>20</td>\n",
       "      <td>3</td>\n",
       "      <td>12</td>\n",
       "      <td>64</td>\n",
       "      <td>1</td>\n",
       "    </tr>\n",
       "    <tr>\n",
       "      <th>4</th>\n",
       "      <td>79</td>\n",
       "      <td>45</td>\n",
       "      <td>62</td>\n",
       "      <td>4</td>\n",
       "      <td>62</td>\n",
       "      <td>27</td>\n",
       "    </tr>\n",
       "    <tr>\n",
       "      <th>...</th>\n",
       "      <td>...</td>\n",
       "      <td>...</td>\n",
       "      <td>...</td>\n",
       "      <td>...</td>\n",
       "      <td>...</td>\n",
       "      <td>...</td>\n",
       "    </tr>\n",
       "    <tr>\n",
       "      <th>95</th>\n",
       "      <td>73</td>\n",
       "      <td>54</td>\n",
       "      <td>36</td>\n",
       "      <td>29</td>\n",
       "      <td>87</td>\n",
       "      <td>7</td>\n",
       "    </tr>\n",
       "    <tr>\n",
       "      <th>96</th>\n",
       "      <td>94</td>\n",
       "      <td>95</td>\n",
       "      <td>84</td>\n",
       "      <td>34</td>\n",
       "      <td>46</td>\n",
       "      <td>42</td>\n",
       "    </tr>\n",
       "    <tr>\n",
       "      <th>97</th>\n",
       "      <td>26</td>\n",
       "      <td>85</td>\n",
       "      <td>8</td>\n",
       "      <td>67</td>\n",
       "      <td>36</td>\n",
       "      <td>26</td>\n",
       "    </tr>\n",
       "    <tr>\n",
       "      <th>98</th>\n",
       "      <td>36</td>\n",
       "      <td>67</td>\n",
       "      <td>86</td>\n",
       "      <td>84</td>\n",
       "      <td>34</td>\n",
       "      <td>66</td>\n",
       "    </tr>\n",
       "    <tr>\n",
       "      <th>99</th>\n",
       "      <td>80</td>\n",
       "      <td>6</td>\n",
       "      <td>40</td>\n",
       "      <td>41</td>\n",
       "      <td>31</td>\n",
       "      <td>16</td>\n",
       "    </tr>\n",
       "  </tbody>\n",
       "</table>\n",
       "<p>100 rows × 6 columns</p>\n",
       "</div>"
      ],
      "text/plain": [
       "    f1  f2  f3  f4  f5  f6\n",
       "0   37  78  88  74  15  70\n",
       "1   70   2  86  49  58  65\n",
       "2   83  47  21  42  15  27\n",
       "3   82  20   3  12  64   1\n",
       "4   79  45  62   4  62  27\n",
       "..  ..  ..  ..  ..  ..  ..\n",
       "95  73  54  36  29  87   7\n",
       "96  94  95  84  34  46  42\n",
       "97  26  85   8  67  36  26\n",
       "98  36  67  86  84  34  66\n",
       "99  80   6  40  41  31  16\n",
       "\n",
       "[100 rows x 6 columns]"
      ]
     },
     "execution_count": 23,
     "metadata": {},
     "output_type": "execute_result"
    }
   ],
   "source": [
    "df"
   ]
  },
  {
   "cell_type": "code",
   "execution_count": null,
   "id": "c6bfa797",
   "metadata": {},
   "outputs": [],
   "source": []
  }
 ],
 "metadata": {
  "kernelspec": {
   "display_name": "Python 3 (ipykernel)",
   "language": "python",
   "name": "python3"
  },
  "language_info": {
   "codemirror_mode": {
    "name": "ipython",
    "version": 3
   },
   "file_extension": ".py",
   "mimetype": "text/x-python",
   "name": "python",
   "nbconvert_exporter": "python",
   "pygments_lexer": "ipython3",
   "version": "3.7.13"
  }
 },
 "nbformat": 4,
 "nbformat_minor": 5
}
