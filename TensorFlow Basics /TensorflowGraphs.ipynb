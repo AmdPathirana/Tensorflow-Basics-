{
 "cells": [
  {
   "cell_type": "markdown",
   "id": "da452f97",
   "metadata": {},
   "source": [
    "# Tensorflow Graphs"
   ]
  },
  {
   "cell_type": "code",
   "execution_count": 33,
   "id": "00efacda",
   "metadata": {},
   "outputs": [],
   "source": [
    "import tensorflow as tf"
   ]
  },
  {
   "cell_type": "code",
   "execution_count": 34,
   "id": "76c8c899",
   "metadata": {},
   "outputs": [
    {
     "data": {
      "text/plain": [
       "'2.0.0'"
      ]
     },
     "execution_count": 34,
     "metadata": {},
     "output_type": "execute_result"
    }
   ],
   "source": [
    "tf.__version__"
   ]
  },
  {
   "cell_type": "code",
   "execution_count": 35,
   "id": "d71935c8",
   "metadata": {},
   "outputs": [
    {
     "name": "stdout",
     "output_type": "stream",
     "text": [
      "30\n"
     ]
    }
   ],
   "source": [
    "n1=tf.constant(10)\n",
    "n2=tf.constant(20)\n",
    "tf.print(n1+n2)"
   ]
  },
  {
   "cell_type": "markdown",
   "id": "23ee9ee4",
   "metadata": {},
   "source": [
    "When it start the tmy_rand2ensorflow it starts a default Graphs, We can create additional graphs easily "
   ]
  },
  {
   "cell_type": "code",
   "execution_count": 36,
   "id": "461daf08",
   "metadata": {},
   "outputs": [
    {
     "data": {
      "text/plain": [
       "<tensorflow.python.framework.ops.Graph at 0x7f8d340fdc50>"
      ]
     },
     "execution_count": 36,
     "metadata": {},
     "output_type": "execute_result"
    }
   ],
   "source": [
    "# get the defualt graph \"compact.v1\" to get it first version \n",
    "default_graph=tf.compat.v1.get_default_graph()\n",
    "default_graph"
   ]
  },
  {
   "cell_type": "code",
   "execution_count": 37,
   "id": "2e392a43",
   "metadata": {},
   "outputs": [
    {
     "data": {
      "text/plain": [
       "<tensorflow.python.framework.ops.Graph at 0x7f8d3509eb50>"
      ]
     },
     "execution_count": 37,
     "metadata": {},
     "output_type": "execute_result"
    }
   ],
   "source": [
    "# get an addition graph \n",
    "graph=tf.Graph()\n",
    "graph"
   ]
  },
  {
   "cell_type": "code",
   "execution_count": 41,
   "id": "b9c3e485",
   "metadata": {},
   "outputs": [
    {
     "name": "stdout",
     "output_type": "stream",
     "text": [
      "True\n"
     ]
    }
   ],
   "source": [
    "#set additional graph to default graph\n",
    "with graph.as_default():\n",
    "    print( graph is tf.compat.v1.get_default_graph())"
   ]
  },
  {
   "cell_type": "code",
   "execution_count": 42,
   "id": "eb70bfd5",
   "metadata": {},
   "outputs": [
    {
     "name": "stdout",
     "output_type": "stream",
     "text": [
      "False\n"
     ]
    }
   ],
   "source": [
    " print( graph is tf.compat.v1.get_default_graph())"
   ]
  },
  {
   "cell_type": "code",
   "execution_count": null,
   "id": "2f8690b1",
   "metadata": {},
   "outputs": [],
   "source": []
  },
  {
   "cell_type": "code",
   "execution_count": null,
   "id": "96144c59",
   "metadata": {},
   "outputs": [],
   "source": []
  }
 ],
 "metadata": {
  "kernelspec": {
   "display_name": "Python 3 (ipykernel)",
   "language": "python",
   "name": "python3"
  },
  "language_info": {
   "codemirror_mode": {
    "name": "ipython",
    "version": 3
   },
   "file_extension": ".py",
   "mimetype": "text/x-python",
   "name": "python",
   "nbconvert_exporter": "python",
   "pygments_lexer": "ipython3",
   "version": "3.7.13"
  }
 },
 "nbformat": 4,
 "nbformat_minor": 5
}
