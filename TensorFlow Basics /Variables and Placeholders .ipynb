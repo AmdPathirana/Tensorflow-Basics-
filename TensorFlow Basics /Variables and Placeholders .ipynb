{
 "cells": [
  {
   "cell_type": "markdown",
   "id": "f12d1c71",
   "metadata": {},
   "source": [
    "# Variables"
   ]
  },
  {
   "cell_type": "code",
   "execution_count": 22,
   "id": "e6f3a0d7",
   "metadata": {},
   "outputs": [],
   "source": [
    "import tensorflow as tf"
   ]
  },
  {
   "cell_type": "code",
   "execution_count": 23,
   "id": "46676506",
   "metadata": {},
   "outputs": [
    {
     "name": "stdout",
     "output_type": "stream",
     "text": [
      "[[0.935404778 0.312024117 0.703841925 0.755627513]\n",
      " [0.809807062 0.6685009 0.404628754 0.164469361]\n",
      " [0.104091525 0.991054177 0.852307439 0.689428329]\n",
      " [0.664138556 0.269124269 0.513974428 0.182166815]]\n"
     ]
    }
   ],
   "source": [
    "my_tensor=tf.random.uniform((4,4), 0,1)\n",
    "tf.print(my_tensor)"
   ]
  },
  {
   "cell_type": "code",
   "execution_count": 24,
   "id": "ad5b7504",
   "metadata": {},
   "outputs": [],
   "source": [
    "my_variable =tf.Variable(initial_value=my_tensor)"
   ]
  },
  {
   "cell_type": "code",
   "execution_count": 25,
   "id": "30458e18",
   "metadata": {},
   "outputs": [
    {
     "name": "stdout",
     "output_type": "stream",
     "text": [
      "[[0.935404778 0.312024117 0.703841925 0.755627513]\n",
      " [0.809807062 0.6685009 0.404628754 0.164469361]\n",
      " [0.104091525 0.991054177 0.852307439 0.689428329]\n",
      " [0.664138556 0.269124269 0.513974428 0.182166815]]\n"
     ]
    }
   ],
   "source": [
    "tf.print(my_variable)"
   ]
  },
  {
   "cell_type": "markdown",
   "id": "54ae4de5",
   "metadata": {},
   "source": [
    "# Placeholders"
   ]
  },
  {
   "cell_type": "code",
   "execution_count": 32,
   "id": "6cd668ae",
   "metadata": {},
   "outputs": [],
   "source": [
    "# placeholders are not executable immediately so we need to disable eager exicution in TF 2 not in 1\n",
    "tf.compat.v1.disable_eager_execution()\n",
    " \n",
    "# # Create Placeholder\n",
    "placeholder = tf.compat.v1.placeholder(dtype=tf.float32, shape=(400,400))"
   ]
  },
  {
   "cell_type": "code",
   "execution_count": null,
   "id": "d4069179",
   "metadata": {},
   "outputs": [],
   "source": []
  }
 ],
 "metadata": {
  "kernelspec": {
   "display_name": "Python 3 (ipykernel)",
   "language": "python",
   "name": "python3"
  },
  "language_info": {
   "codemirror_mode": {
    "name": "ipython",
    "version": 3
   },
   "file_extension": ".py",
   "mimetype": "text/x-python",
   "name": "python",
   "nbconvert_exporter": "python",
   "pygments_lexer": "ipython3",
   "version": "3.7.13"
  }
 },
 "nbformat": 4,
 "nbformat_minor": 5
}
