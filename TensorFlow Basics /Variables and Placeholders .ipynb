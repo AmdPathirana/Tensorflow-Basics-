{
 "cells": [
  {
   "cell_type": "markdown",
   "id": "f12d1c71",
   "metadata": {},
   "source": [
    "# Variables"
   ]
  },
  {
   "cell_type": "code",
   "execution_count": 2,
   "id": "e6f3a0d7",
   "metadata": {},
   "outputs": [],
   "source": [
    "import tensorflow as tf"
   ]
  },
  {
   "cell_type": "code",
   "execution_count": 3,
   "id": "46676506",
   "metadata": {},
   "outputs": [
    {
     "name": "stdout",
     "output_type": "stream",
     "text": [
      "[[0.443229675 0.868291736 0.806306481 0.936555862]\n",
      " [0.77079165 0.993771195 0.156830668 0.604859114]\n",
      " [0.314885497 0.351425767 0.197366595 0.43150878]\n",
      " [0.821564794 0.800428748 0.954038501 0.627435565]]\n"
     ]
    },
    {
     "name": "stderr",
     "output_type": "stream",
     "text": [
      "2023-01-14 07:06:59.307249: I tensorflow/core/platform/cpu_feature_guard.cc:145] This TensorFlow binary is optimized with Intel(R) MKL-DNN to use the following CPU instructions in performance critical operations:  SSE4.1 SSE4.2\n",
      "To enable them in non-MKL-DNN operations, rebuild TensorFlow with the appropriate compiler flags.\n",
      "2023-01-14 07:06:59.307765: I tensorflow/core/common_runtime/process_util.cc:115] Creating new thread pool with default inter op setting: 8. Tune using inter_op_parallelism_threads for best performance.\n"
     ]
    }
   ],
   "source": [
    "my_tensor=tf.random.uniform((4,4), 0,1)\n",
    "tf.print(my_tensor)"
   ]
  },
  {
   "cell_type": "code",
   "execution_count": 4,
   "id": "ad5b7504",
   "metadata": {},
   "outputs": [],
   "source": [
    "my_variable =tf.Variable(initial_value=my_tensor)"
   ]
  },
  {
   "cell_type": "code",
   "execution_count": 5,
   "id": "30458e18",
   "metadata": {},
   "outputs": [
    {
     "name": "stdout",
     "output_type": "stream",
     "text": [
      "[[0.443229675 0.868291736 0.806306481 0.936555862]\n",
      " [0.77079165 0.993771195 0.156830668 0.604859114]\n",
      " [0.314885497 0.351425767 0.197366595 0.43150878]\n",
      " [0.821564794 0.800428748 0.954038501 0.627435565]]\n"
     ]
    }
   ],
   "source": [
    "tf.print(my_variable)"
   ]
  },
  {
   "cell_type": "markdown",
   "id": "54ae4de5",
   "metadata": {},
   "source": [
    "# Placeholders"
   ]
  },
  {
   "cell_type": "code",
   "execution_count": 6,
   "id": "6cd668ae",
   "metadata": {},
   "outputs": [],
   "source": [
    "# placeholders are not executable immediately so we need to disable eager exicution in TF 2 not in 1\n",
    "tf.compat.v1.disable_eager_execution()\n",
    " \n",
    "# # Create Placeholder\n",
    "placeholder = tf.compat.v1.placeholder(dtype=tf.float32, shape=(400,400))"
   ]
  }
 ],
 "metadata": {
  "kernelspec": {
   "display_name": "Python 3 (ipykernel)",
   "language": "python",
   "name": "python3"
  },
  "language_info": {
   "codemirror_mode": {
    "name": "ipython",
    "version": 3
   },
   "file_extension": ".py",
   "mimetype": "text/x-python",
   "name": "python",
   "nbconvert_exporter": "python",
   "pygments_lexer": "ipython3",
   "version": "3.7.13"
  }
 },
 "nbformat": 4,
 "nbformat_minor": 5
}
