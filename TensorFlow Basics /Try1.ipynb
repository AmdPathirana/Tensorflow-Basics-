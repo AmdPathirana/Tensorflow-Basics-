{
 "cells": [
  {
   "cell_type": "markdown",
   "id": "780904be",
   "metadata": {},
   "source": [
    "# Tensorflow basics "
   ]
  },
  {
   "cell_type": "code",
   "execution_count": 1,
   "id": "e1a1d66c",
   "metadata": {},
   "outputs": [],
   "source": [
    "import tensorflow as tf "
   ]
  },
  {
   "cell_type": "code",
   "execution_count": 2,
   "id": "b935001a",
   "metadata": {},
   "outputs": [
    {
     "data": {
      "text/plain": [
       "'2.0.0'"
      ]
     },
     "execution_count": 2,
     "metadata": {},
     "output_type": "execute_result"
    }
   ],
   "source": [
    "# check the version \n",
    "tf.__version__"
   ]
  },
  {
   "cell_type": "code",
   "execution_count": 3,
   "id": "9aa2e57d",
   "metadata": {},
   "outputs": [
    {
     "name": "stderr",
     "output_type": "stream",
     "text": [
      "2023-01-14 06:11:15.727824: I tensorflow/core/platform/cpu_feature_guard.cc:145] This TensorFlow binary is optimized with Intel(R) MKL-DNN to use the following CPU instructions in performance critical operations:  SSE4.1 SSE4.2\n",
      "To enable them in non-MKL-DNN operations, rebuild TensorFlow with the appropriate compiler flags.\n",
      "2023-01-14 06:11:15.731246: I tensorflow/core/common_runtime/process_util.cc:115] Creating new thread pool with default inter op setting: 8. Tune using inter_op_parallelism_threads for best performance.\n"
     ]
    }
   ],
   "source": [
    "# create 2 constant \n",
    "hello = tf.constant(\"HELLO\")\n",
    "world = tf.constant(\"WORLD\")\n"
   ]
  },
  {
   "cell_type": "code",
   "execution_count": 5,
   "id": "0da8ff08",
   "metadata": {},
   "outputs": [
    {
     "name": "stdout",
     "output_type": "stream",
     "text": [
      "HELLO\n",
      "WORLD\n"
     ]
    }
   ],
   "source": [
    "# print two constant\n",
    "tf.print(hello)\n",
    "tf.print(world)"
   ]
  },
  {
   "cell_type": "code",
   "execution_count": 9,
   "id": "533f200b",
   "metadata": {},
   "outputs": [
    {
     "name": "stdout",
     "output_type": "stream",
     "text": [
      "Addd: 50\n"
     ]
    }
   ],
   "source": [
    "# add two numbers \n",
    "num1=tf.constant(10)\n",
    "num2=tf.constant(40)\n",
    "print(\"Addd: {}\".format((num1+num2)))"
   ]
  },
  {
   "cell_type": "code",
   "execution_count": 10,
   "id": "5bbab6fb",
   "metadata": {},
   "outputs": [
    {
     "name": "stdout",
     "output_type": "stream",
     "text": [
      "[[90 90 90 90]\n",
      " [90 90 90 90]\n",
      " [90 90 90 90]\n",
      " [90 90 90 90]]\n"
     ]
    }
   ],
   "source": [
    "# create a matrix which fills with spesific number \n",
    "mat=tf.fill((4,4), 90)\n",
    "tf.print(mat)"
   ]
  },
  {
   "cell_type": "code",
   "execution_count": 14,
   "id": "01b1b363",
   "metadata": {},
   "outputs": [
    {
     "name": "stdout",
     "output_type": "stream",
     "text": [
      "[[0 0 0 0 0 0]\n",
      " [0 0 0 0 0 0]\n",
      " [0 0 0 0 0 0]\n",
      " [0 0 0 0 0 0]\n",
      " [0 0 0 0 0 0]]\n"
     ]
    }
   ],
   "source": [
    "# create a matrix which fills with 0 \n",
    "mat0=tf.zeros((5,6), 10)\n",
    "tf.print(mat0)"
   ]
  },
  {
   "cell_type": "code",
   "execution_count": 17,
   "id": "e0c35286",
   "metadata": {},
   "outputs": [
    {
     "name": "stdout",
     "output_type": "stream",
     "text": [
      "[[1 1 1 ... 1 1 1]\n",
      " [1 1 1 ... 1 1 1]\n",
      " [1 1 1 ... 1 1 1]\n",
      " [1 1 1 ... 1 1 1]\n",
      " [1 1 1 ... 1 1 1]]\n"
     ]
    }
   ],
   "source": [
    "# create a matirx which fills with all 1s\n",
    "mat1=tf.ones((5,9))\n",
    "tf.print(mat1)"
   ]
  },
  {
   "cell_type": "code",
   "execution_count": 19,
   "id": "2380639b",
   "metadata": {},
   "outputs": [
    {
     "name": "stdout",
     "output_type": "stream",
     "text": [
      "[[45.6064758 47.2198753 46.6129761 ... 46.6603928 45.7262192 47.6430969]\n",
      " [46.0288887 45.2957153 47.5246162 ... 45.2862396 45.5949631 46.5833054]\n",
      " [46.1061783 46.0987396 46.1260681 ... 45.5570641 46.4175529 47.0636177]\n",
      " ...\n",
      " [46.9702034 45.7799034 45.6255798 ... 46.1880722 45.5583649 47.721611]\n",
      " [47.7295876 47.7302742 46.1754646 ... 47.8102913 45.0679779 47.668644]\n",
      " [45.8631401 45.2380791 45.8324699 ... 45.9280357 47.2680931 46.1967316]]\n"
     ]
    }
   ],
   "source": [
    "# create a random unifrom matrix \n",
    "uni_mat=tf.random.uniform((9,9), minval=45, maxval=48)\n",
    "tf.print(uni_mat)"
   ]
  },
  {
   "cell_type": "code",
   "execution_count": null,
   "id": "777d1b70",
   "metadata": {},
   "outputs": [],
   "source": [
    "# Create random normal value matirx for given mean ans std \n"
   ]
  }
 ],
 "metadata": {
  "kernelspec": {
   "display_name": "Python 3 (ipykernel)",
   "language": "python",
   "name": "python3"
  },
  "language_info": {
   "codemirror_mode": {
    "name": "ipython",
    "version": 3
   },
   "file_extension": ".py",
   "mimetype": "text/x-python",
   "name": "python",
   "nbconvert_exporter": "python",
   "pygments_lexer": "ipython3",
   "version": "3.7.13"
  }
 },
 "nbformat": 4,
 "nbformat_minor": 5
}
