{
 "cells": [
  {
   "cell_type": "markdown",
   "id": "8a5e2a1c",
   "metadata": {},
   "source": [
    "# Tensorflow basics "
   ]
  },
  {
   "cell_type": "code",
   "execution_count": 1,
   "id": "6c8fbb8e",
   "metadata": {},
   "outputs": [],
   "source": [
    "import tensorflow as tf "
   ]
  },
  {
   "cell_type": "code",
   "execution_count": 2,
   "id": "14650d4c",
   "metadata": {},
   "outputs": [
    {
     "data": {
      "text/plain": [
       "'2.0.0'"
      ]
     },
     "execution_count": 2,
     "metadata": {},
     "output_type": "execute_result"
    }
   ],
   "source": [
    "# check the version \n",
    "tf.__version__"
   ]
  },
  {
   "cell_type": "code",
   "execution_count": 3,
   "id": "745b62a8",
   "metadata": {},
   "outputs": [
    {
     "name": "stderr",
     "output_type": "stream",
     "text": [
      "2023-01-14 06:11:15.727824: I tensorflow/core/platform/cpu_feature_guard.cc:145] This TensorFlow binary is optimized with Intel(R) MKL-DNN to use the following CPU instructions in performance critical operations:  SSE4.1 SSE4.2\n",
      "To enable them in non-MKL-DNN operations, rebuild TensorFlow with the appropriate compiler flags.\n",
      "2023-01-14 06:11:15.731246: I tensorflow/core/common_runtime/process_util.cc:115] Creating new thread pool with default inter op setting: 8. Tune using inter_op_parallelism_threads for best performance.\n"
     ]
    }
   ],
   "source": [
    "# create 2 constant \n",
    "hello = tf.constant(\"HELLO\")\n",
    "world = tf.constant(\"WORLD\")\n"
   ]
  },
  {
   "cell_type": "code",
   "execution_count": 5,
   "id": "b45a7618",
   "metadata": {},
   "outputs": [
    {
     "name": "stdout",
     "output_type": "stream",
     "text": [
      "HELLO\n",
      "WORLD\n"
     ]
    }
   ],
   "source": [
    "# print two constant\n",
    "tf.print(hello)\n",
    "tf.print(world)"
   ]
  },
  {
   "cell_type": "code",
   "execution_count": 9,
   "id": "fb09d1a4",
   "metadata": {},
   "outputs": [
    {
     "name": "stdout",
     "output_type": "stream",
     "text": [
      "Addd: 50\n"
     ]
    }
   ],
   "source": [
    "# add two numbers \n",
    "num1=tf.constant(10)\n",
    "num2=tf.constant(40)\n",
    "print(\"Addd: {}\".format((num1+num2)))"
   ]
  },
  {
   "cell_type": "code",
   "execution_count": 10,
   "id": "f25a657c",
   "metadata": {},
   "outputs": [
    {
     "name": "stdout",
     "output_type": "stream",
     "text": [
      "[[90 90 90 90]\n",
      " [90 90 90 90]\n",
      " [90 90 90 90]\n",
      " [90 90 90 90]]\n"
     ]
    }
   ],
   "source": [
    "# create a matrix which fills with spesific number \n",
    "mat=tf.fill((4,4), 90)\n",
    "tf.print(mat)"
   ]
  },
  {
   "cell_type": "code",
   "execution_count": 14,
   "id": "232e1f49",
   "metadata": {},
   "outputs": [
    {
     "name": "stdout",
     "output_type": "stream",
     "text": [
      "[[0 0 0 0 0 0]\n",
      " [0 0 0 0 0 0]\n",
      " [0 0 0 0 0 0]\n",
      " [0 0 0 0 0 0]\n",
      " [0 0 0 0 0 0]]\n"
     ]
    }
   ],
   "source": [
    "# create a matrix which fills with 0 \n",
    "mat0=tf.zeros((5,6), 10)\n",
    "tf.print(mat0)"
   ]
  },
  {
   "cell_type": "code",
   "execution_count": 17,
   "id": "a844eb8f",
   "metadata": {},
   "outputs": [
    {
     "name": "stdout",
     "output_type": "stream",
     "text": [
      "[[1 1 1 ... 1 1 1]\n",
      " [1 1 1 ... 1 1 1]\n",
      " [1 1 1 ... 1 1 1]\n",
      " [1 1 1 ... 1 1 1]\n",
      " [1 1 1 ... 1 1 1]]\n"
     ]
    }
   ],
   "source": [
    "# create a matirx which fills with all 1s\n",
    "mat1=tf.ones((5,9))\n",
    "tf.print(mat1)"
   ]
  },
  {
   "cell_type": "code",
   "execution_count": 19,
   "id": "59cd6157",
   "metadata": {},
   "outputs": [
    {
     "name": "stdout",
     "output_type": "stream",
     "text": [
      "[[45.6064758 47.2198753 46.6129761 ... 46.6603928 45.7262192 47.6430969]\n",
      " [46.0288887 45.2957153 47.5246162 ... 45.2862396 45.5949631 46.5833054]\n",
      " [46.1061783 46.0987396 46.1260681 ... 45.5570641 46.4175529 47.0636177]\n",
      " ...\n",
      " [46.9702034 45.7799034 45.6255798 ... 46.1880722 45.5583649 47.721611]\n",
      " [47.7295876 47.7302742 46.1754646 ... 47.8102913 45.0679779 47.668644]\n",
      " [45.8631401 45.2380791 45.8324699 ... 45.9280357 47.2680931 46.1967316]]\n"
     ]
    }
   ],
   "source": [
    "# create a random unifrom matrix \n",
    "uni_mat=tf.random.uniform((9,9), minval=45, maxval=48)\n",
    "tf.print(uni_mat)"
   ]
  },
  {
   "cell_type": "code",
   "execution_count": 20,
   "id": "a8871c2f",
   "metadata": {},
   "outputs": [
    {
     "name": "stdout",
     "output_type": "stream",
     "text": [
      "[[78.2720642 67.0361633 50.0633774 ... 70.9680481 55.0310822 40.6136055]\n",
      " [43.0212631 52.2171249 48.889492 ... 64.9798126 54.1907806 61.3844299]\n",
      " [68.2216797 66.9434052 38.0519638 ... 42.8099709 7.18098068 85.5465393]\n",
      " ...\n",
      " [14.8097343 42.2226715 27.4330025 ... 19.6380405 45.5739441 57.1043091]\n",
      " [7.59243393 15.1258469 -2.41633224 ... 64.5407562 46.2130432 5.04676437]\n",
      " [48.7443581 85.5659 31.5392151 ... 45.3710976 3.75220871 53.302536]]\n"
     ]
    }
   ],
   "source": [
    "# Create random normal value matirx for given mean ans std \n",
    "nor_mat=tf.random.normal((10,10), mean=43, stddev=20)\n",
    "tf.print(nor_mat)"
   ]
  },
  {
   "cell_type": "code",
   "execution_count": 24,
   "id": "11ab22f6",
   "metadata": {},
   "outputs": [
    {
     "name": "stdout",
     "output_type": "stream",
     "text": [
      "Mat mul: [[ 58  27]\n",
      " [118  51]]\n"
     ]
    }
   ],
   "source": [
    "# matirix multlipication \n",
    "a1 = tf.constant([[2,3,3],\n",
    "                 [4,5,9]])\n",
    "\n",
    "a2 = tf.constant([[8,9],\n",
    "                 [10,3],\n",
    "                 [4,0]])\n",
    "tf.print(\"Mat mul: {}\".format(tf.matmul(a1,a2)))"
   ]
  },
  {
   "cell_type": "code",
   "execution_count": 26,
   "id": "ab758140",
   "metadata": {},
   "outputs": [
    {
     "name": "stdout",
     "output_type": "stream",
     "text": [
      "Mulplication\n",
      "[[5733.14502 5670.97217 5688.72461 5940.31299 5684.19092]\n",
      " [5548.80078 5482.58643 5593.13428 5787.60547 5481.64404]\n",
      " [5961.56104 5813.0791 5915.29102 6154.27344 5804.45508]\n",
      " [6435.73 6330.6377 6328.26758 6574.87646 6348.17383]\n",
      " [5504.36719 5492.02881 5518.53564 5702.56445 5525.85352]]\n"
     ]
    }
   ],
   "source": [
    "# craret 2 random uniform matrixs and multiply it \n",
    "ran_mat_1 = tf.random.uniform((5,6), minval=14, maxval=28)\n",
    "ran_mat_2 = tf.random.uniform((6,5), minval=40, maxval=53)\n",
    "tf.print(\"Mulplication\")\n",
    "tf.print(tf.matmul(ran_mat_1, ran_mat_2))"
   ]
  },
  {
   "cell_type": "markdown",
   "id": "01c9ddb6",
   "metadata": {},
   "source": [
    "# Tensorflow Graphs "
   ]
  },
  {
   "cell_type": "code",
   "execution_count": 29,
   "id": "4400f7e1",
   "metadata": {},
   "outputs": [
    {
     "data": {
      "text/plain": [
       "<tensorflow.python.framework.ops.Graph at 0x7f95753a4bd0>"
      ]
     },
     "execution_count": 29,
     "metadata": {},
     "output_type": "execute_result"
    }
   ],
   "source": [
    "# get the default graph \n",
    "d_graph = tf.compat.v1.get_default_graph()\n",
    "d_graph"
   ]
  },
  {
   "cell_type": "code",
   "execution_count": 31,
   "id": "6b0dc1f5",
   "metadata": {},
   "outputs": [
    {
     "data": {
      "text/plain": [
       "<tensorflow.python.framework.ops.Graph at 0x7f95759d95d0>"
      ]
     },
     "execution_count": 31,
     "metadata": {},
     "output_type": "execute_result"
    }
   ],
   "source": [
    "#  create addition graph in TF\n",
    "graph = tf.Graph()\n",
    "graph"
   ]
  },
  {
   "cell_type": "code",
   "execution_count": 34,
   "id": "433e01eb",
   "metadata": {},
   "outputs": [
    {
     "name": "stdout",
     "output_type": "stream",
     "text": [
      "True\n"
     ]
    }
   ],
   "source": [
    "# set additional graph to the default graph \n",
    "with graph.as_default():\n",
    "    print(graph is tf.compat.v1.get_default_graph())"
   ]
  },
  {
   "cell_type": "markdown",
   "id": "b68cdd32",
   "metadata": {},
   "source": [
    "# Variables and Placeholders "
   ]
  },
  {
   "cell_type": "code",
   "execution_count": 36,
   "id": "15c2c048",
   "metadata": {},
   "outputs": [
    {
     "name": "stdout",
     "output_type": "stream",
     "text": [
      "[[13.1927319 22.1690445 17.7869949 15.1582422]\n",
      " [33.6531067 31.6739388 12.7179279 25.4588909]\n",
      " [31.2507572 32.1613312 26.4029179 15.2637291]\n",
      " [30.7896919 19.6207542 33.9984131 21.0456123]]\n"
     ]
    }
   ],
   "source": [
    "# create TF variable. \n",
    "my_rand_matrix = tf.random.uniform((4,4), minval=12, maxval=34)\n",
    "my_variable = tf.Variable(initial_value= my_rand_matrix)\n",
    "tf.print(my_variable)"
   ]
  },
  {
   "cell_type": "code",
   "execution_count": 38,
   "id": "709d9c73",
   "metadata": {},
   "outputs": [],
   "source": [
    "#  create placeholder \n",
    "tf.compat.v1.disable_eager_execution()\n",
    "placeholder = tf.compat.v1.placeholder(dtype=tf.float32, shape=(5,5))"
   ]
  },
  {
   "cell_type": "code",
   "execution_count": null,
   "id": "4273464c",
   "metadata": {},
   "outputs": [],
   "source": []
  }
 ],
 "metadata": {
  "kernelspec": {
   "display_name": "Python 3 (ipykernel)",
   "language": "python",
   "name": "python3"
  },
  "language_info": {
   "codemirror_mode": {
    "name": "ipython",
    "version": 3
   },
   "file_extension": ".py",
   "mimetype": "text/x-python",
   "name": "python",
   "nbconvert_exporter": "python",
   "pygments_lexer": "ipython3",
   "version": "3.7.13"
  }
 },
 "nbformat": 4,
 "nbformat_minor": 5
}
