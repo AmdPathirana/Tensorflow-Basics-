{
 "cells": [
  {
   "cell_type": "markdown",
   "id": "86780391",
   "metadata": {},
   "source": [
    "# Tensorflow basics "
   ]
  },
  {
   "cell_type": "code",
   "execution_count": 1,
   "id": "b7330faf",
   "metadata": {},
   "outputs": [],
   "source": [
    "import tensorflow as tf "
   ]
  },
  {
   "cell_type": "code",
   "execution_count": 2,
   "id": "0691cbc9",
   "metadata": {},
   "outputs": [
    {
     "data": {
      "text/plain": [
       "'2.0.0'"
      ]
     },
     "execution_count": 2,
     "metadata": {},
     "output_type": "execute_result"
    }
   ],
   "source": [
    "# check the version \n",
    "tf.__version__"
   ]
  },
  {
   "cell_type": "code",
   "execution_count": 3,
   "id": "c16ed10c",
   "metadata": {},
   "outputs": [
    {
     "name": "stderr",
     "output_type": "stream",
     "text": [
      "2023-01-14 06:11:15.727824: I tensorflow/core/platform/cpu_feature_guard.cc:145] This TensorFlow binary is optimized with Intel(R) MKL-DNN to use the following CPU instructions in performance critical operations:  SSE4.1 SSE4.2\n",
      "To enable them in non-MKL-DNN operations, rebuild TensorFlow with the appropriate compiler flags.\n",
      "2023-01-14 06:11:15.731246: I tensorflow/core/common_runtime/process_util.cc:115] Creating new thread pool with default inter op setting: 8. Tune using inter_op_parallelism_threads for best performance.\n"
     ]
    }
   ],
   "source": [
    "# create 2 constant \n",
    "hello = tf.constant(\"HELLO\")\n",
    "world = tf.constant(\"WORLD\")\n"
   ]
  },
  {
   "cell_type": "code",
   "execution_count": 5,
   "id": "56b01560",
   "metadata": {},
   "outputs": [
    {
     "name": "stdout",
     "output_type": "stream",
     "text": [
      "HELLO\n",
      "WORLD\n"
     ]
    }
   ],
   "source": [
    "# print two constant\n",
    "tf.print(hello)\n",
    "tf.print(world)"
   ]
  },
  {
   "cell_type": "code",
   "execution_count": 9,
   "id": "939a92e5",
   "metadata": {},
   "outputs": [
    {
     "name": "stdout",
     "output_type": "stream",
     "text": [
      "Addd: 50\n"
     ]
    }
   ],
   "source": [
    "# add two numbers \n",
    "num1=tf.constant(10)\n",
    "num2=tf.constant(40)\n",
    "print(\"Addd: {}\".format((num1+num2)))"
   ]
  },
  {
   "cell_type": "code",
   "execution_count": 10,
   "id": "7438b35f",
   "metadata": {},
   "outputs": [
    {
     "name": "stdout",
     "output_type": "stream",
     "text": [
      "[[90 90 90 90]\n",
      " [90 90 90 90]\n",
      " [90 90 90 90]\n",
      " [90 90 90 90]]\n"
     ]
    }
   ],
   "source": [
    "# create a matrix which fills with spesific number \n",
    "mat=tf.fill((4,4), 90)\n",
    "tf.print(mat)"
   ]
  },
  {
   "cell_type": "code",
   "execution_count": 14,
   "id": "4cad63d6",
   "metadata": {},
   "outputs": [
    {
     "name": "stdout",
     "output_type": "stream",
     "text": [
      "[[0 0 0 0 0 0]\n",
      " [0 0 0 0 0 0]\n",
      " [0 0 0 0 0 0]\n",
      " [0 0 0 0 0 0]\n",
      " [0 0 0 0 0 0]]\n"
     ]
    }
   ],
   "source": [
    "# create a matrix which fills with 0 \n",
    "mat0=tf.zeros((5,6), 10)\n",
    "tf.print(mat0)"
   ]
  },
  {
   "cell_type": "code",
   "execution_count": 17,
   "id": "39d1454f",
   "metadata": {},
   "outputs": [
    {
     "name": "stdout",
     "output_type": "stream",
     "text": [
      "[[1 1 1 ... 1 1 1]\n",
      " [1 1 1 ... 1 1 1]\n",
      " [1 1 1 ... 1 1 1]\n",
      " [1 1 1 ... 1 1 1]\n",
      " [1 1 1 ... 1 1 1]]\n"
     ]
    }
   ],
   "source": [
    "# create a matirx which fills with all 1s\n",
    "mat1=tf.ones((5,9))\n",
    "tf.print(mat1)"
   ]
  },
  {
   "cell_type": "code",
   "execution_count": null,
   "id": "3d917cc1",
   "metadata": {},
   "outputs": [],
   "source": []
  }
 ],
 "metadata": {
  "kernelspec": {
   "display_name": "Python 3 (ipykernel)",
   "language": "python",
   "name": "python3"
  },
  "language_info": {
   "codemirror_mode": {
    "name": "ipython",
    "version": 3
   },
   "file_extension": ".py",
   "mimetype": "text/x-python",
   "name": "python",
   "nbconvert_exporter": "python",
   "pygments_lexer": "ipython3",
   "version": "3.7.13"
  }
 },
 "nbformat": 4,
 "nbformat_minor": 5
}
