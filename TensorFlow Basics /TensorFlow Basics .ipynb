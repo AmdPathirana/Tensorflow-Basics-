{
 "cells": [
  {
   "cell_type": "markdown",
   "id": "478be4d0",
   "metadata": {},
   "source": [
    "# Tensorflow Basics "
   ]
  },
  {
   "cell_type": "code",
   "execution_count": 14,
   "id": "5478ab20",
   "metadata": {},
   "outputs": [],
   "source": [
    "import tensorflow as tf "
   ]
  },
  {
   "cell_type": "code",
   "execution_count": 15,
   "id": "a4d7f1e2",
   "metadata": {},
   "outputs": [
    {
     "data": {
      "text/plain": [
       "'2.0.0'"
      ]
     },
     "execution_count": 15,
     "metadata": {},
     "output_type": "execute_result"
    }
   ],
   "source": [
    "tf.__version__"
   ]
  },
  {
   "cell_type": "code",
   "execution_count": 16,
   "id": "32f4dadf",
   "metadata": {},
   "outputs": [],
   "source": [
    "hello = tf.constant(\"HELLO\")\n",
    "world = tf.constant(\"WORLD\")"
   ]
  },
  {
   "cell_type": "code",
   "execution_count": 17,
   "id": "f413aa6d",
   "metadata": {},
   "outputs": [
    {
     "data": {
      "text/plain": [
       "tensorflow.python.framework.ops.EagerTensor"
      ]
     },
     "execution_count": 17,
     "metadata": {},
     "output_type": "execute_result"
    }
   ],
   "source": [
    "type(hello)"
   ]
  },
  {
   "cell_type": "code",
   "execution_count": 18,
   "id": "c58a161d",
   "metadata": {},
   "outputs": [
    {
     "name": "stdout",
     "output_type": "stream",
     "text": [
      "HELLO\n"
     ]
    }
   ],
   "source": [
    "tf.print(hello)"
   ]
  },
  {
   "cell_type": "code",
   "execution_count": 19,
   "id": "e02fc1cc",
   "metadata": {},
   "outputs": [
    {
     "name": "stdout",
     "output_type": "stream",
     "text": [
      "WORLD\n"
     ]
    }
   ],
   "source": [
    "tf.print(world)"
   ]
  },
  {
   "cell_type": "markdown",
   "id": "297d644d",
   "metadata": {},
   "source": [
    "# Add two values "
   ]
  },
  {
   "cell_type": "code",
   "execution_count": 20,
   "id": "aaf5b792",
   "metadata": {},
   "outputs": [
    {
     "name": "stdout",
     "output_type": "stream",
     "text": [
      "value : 30\n"
     ]
    }
   ],
   "source": [
    "a=tf.constant(10)\n",
    "b=tf.constant(20)\n",
    "tf.print(\"value : {}\".format(a+b))"
   ]
  },
  {
   "cell_type": "markdown",
   "id": "c9a920fd",
   "metadata": {},
   "source": [
    "# Create constant "
   ]
  },
  {
   "cell_type": "code",
   "execution_count": 21,
   "id": "f66af2cc",
   "metadata": {},
   "outputs": [],
   "source": [
    "const=tf.constant(10)"
   ]
  },
  {
   "cell_type": "markdown",
   "id": "f32843f0",
   "metadata": {},
   "source": [
    "# Create matrix "
   ]
  },
  {
   "cell_type": "markdown",
   "id": "e87e0552",
   "metadata": {},
   "source": [
    "Create matrix 4*4 and fills witht the 10"
   ]
  },
  {
   "cell_type": "code",
   "execution_count": 22,
   "id": "fe7d5448",
   "metadata": {},
   "outputs": [],
   "source": [
    "fill_mat=tf.fill((4,4),10)"
   ]
  },
  {
   "cell_type": "code",
   "execution_count": 23,
   "id": "c59b1984",
   "metadata": {},
   "outputs": [
    {
     "data": {
      "text/plain": [
       "<tf.Tensor: id=38, shape=(4, 4), dtype=int32, numpy=\n",
       "array([[10, 10, 10, 10],\n",
       "       [10, 10, 10, 10],\n",
       "       [10, 10, 10, 10],\n",
       "       [10, 10, 10, 10]], dtype=int32)>"
      ]
     },
     "execution_count": 23,
     "metadata": {},
     "output_type": "execute_result"
    }
   ],
   "source": [
    "fill_mat"
   ]
  },
  {
   "cell_type": "markdown",
   "id": "8b22c920",
   "metadata": {},
   "source": [
    "Create 4*4 matirix and fill it with 0 "
   ]
  },
  {
   "cell_type": "code",
   "execution_count": 26,
   "id": "dbdb9aa7",
   "metadata": {},
   "outputs": [
    {
     "data": {
      "text/plain": [
       "<tf.Tensor: id=44, shape=(4, 4), dtype=float32, numpy=\n",
       "array([[0., 0., 0., 0.],\n",
       "       [0., 0., 0., 0.],\n",
       "       [0., 0., 0., 0.],\n",
       "       [0., 0., 0., 0.]], dtype=float32)>"
      ]
     },
     "execution_count": 26,
     "metadata": {},
     "output_type": "execute_result"
    }
   ],
   "source": [
    "my_zeros=tf.zeros((4,4))\n",
    "my_zeros"
   ]
  },
  {
   "cell_type": "markdown",
   "id": "f6b30166",
   "metadata": {},
   "source": [
    "Create 4*4 matrix with all 1 "
   ]
  },
  {
   "cell_type": "code",
   "execution_count": 27,
   "id": "350f1a2f",
   "metadata": {},
   "outputs": [
    {
     "data": {
      "text/plain": [
       "<tf.Tensor: id=47, shape=(4, 4), dtype=float32, numpy=\n",
       "array([[1., 1., 1., 1.],\n",
       "       [1., 1., 1., 1.],\n",
       "       [1., 1., 1., 1.],\n",
       "       [1., 1., 1., 1.]], dtype=float32)>"
      ]
     },
     "execution_count": 27,
     "metadata": {},
     "output_type": "execute_result"
    }
   ],
   "source": [
    "my_ones =tf.ones((4,4))\n",
    "my_ones"
   ]
  },
  {
   "cell_type": "markdown",
   "id": "29bfe346",
   "metadata": {},
   "source": [
    "# Random normal distribution "
   ]
  },
  {
   "cell_type": "code",
   "execution_count": 36,
   "id": "adb4cbcd",
   "metadata": {},
   "outputs": [
    {
     "data": {
      "text/plain": [
       "<tf.Tensor: id=89, shape=(8, 6), dtype=float32, numpy=\n",
       "array([[40.027412, 40.83337 , 38.094547, 47.781693, 40.131676, 41.4349  ],\n",
       "       [42.92204 , 44.709206, 37.102238, 38.632652, 37.88633 , 38.61011 ],\n",
       "       [37.89195 , 34.493584, 38.11578 , 39.568687, 48.170227, 42.38642 ],\n",
       "       [41.45662 , 37.495605, 35.909325, 39.666855, 38.47671 , 42.837315],\n",
       "       [43.25914 , 38.995735, 42.439774, 45.184334, 36.46701 , 40.080997],\n",
       "       [39.251606, 43.63725 , 39.65807 , 38.532143, 39.833183, 40.73056 ],\n",
       "       [43.09242 , 45.05087 , 38.87869 , 41.840034, 44.959347, 38.472004],\n",
       "       [42.78889 , 39.262985, 44.69831 , 41.82014 , 43.257607, 37.932262]],\n",
       "      dtype=float32)>"
      ]
     },
     "execution_count": 36,
     "metadata": {},
     "output_type": "execute_result"
    }
   ],
   "source": [
    "my_randn=tf.random.normal((8,6), mean=40, stddev=3.0)\n",
    "my_randn"
   ]
  },
  {
   "cell_type": "markdown",
   "id": "12652916",
   "metadata": {},
   "source": [
    "# Uniform distribution"
   ]
  },
  {
   "cell_type": "code",
   "execution_count": 38,
   "id": "254d8f8f",
   "metadata": {},
   "outputs": [
    {
     "data": {
      "text/plain": [
       "<tf.Tensor: id=103, shape=(4, 4), dtype=float32, numpy=\n",
       "array([[4.9655294, 4.045762 , 8.12119  , 8.370352 ],\n",
       "       [4.508377 , 7.9196715, 8.340763 , 4.62294  ],\n",
       "       [8.433523 , 4.395733 , 1.8276644, 2.6804066],\n",
       "       [9.856926 , 6.977042 , 3.6766481, 8.931072 ]], dtype=float32)>"
      ]
     },
     "execution_count": 38,
     "metadata": {},
     "output_type": "execute_result"
    }
   ],
   "source": [
    "my_rand2=tf.random.uniform((4,4), minval=0, maxval=10)\n",
    "my_rand2"
   ]
  },
  {
   "cell_type": "markdown",
   "id": "9fba0746",
   "metadata": {},
   "source": [
    "# Matrix multiplication "
   ]
  },
  {
   "cell_type": "code",
   "execution_count": 40,
   "id": "5a7c25f2",
   "metadata": {},
   "outputs": [],
   "source": [
    "a1=tf.constant([[1,2],\n",
    "                [3,4]])"
   ]
  },
  {
   "cell_type": "code",
   "execution_count": 42,
   "id": "8b07c8bf",
   "metadata": {},
   "outputs": [
    {
     "data": {
      "text/plain": [
       "TensorShape([2, 2])"
      ]
     },
     "execution_count": 42,
     "metadata": {},
     "output_type": "execute_result"
    }
   ],
   "source": [
    "a1.get_shape()"
   ]
  },
  {
   "cell_type": "code",
   "execution_count": 43,
   "id": "51b3bdaa",
   "metadata": {},
   "outputs": [],
   "source": [
    "a2=tf.constant([[5,6], \n",
    "               [7,8]])"
   ]
  },
  {
   "cell_type": "code",
   "execution_count": 46,
   "id": "e222d3fa",
   "metadata": {},
   "outputs": [
    {
     "name": "stdout",
     "output_type": "stream",
     "text": [
      "[[19 22]\n",
      " [43 50]]\n"
     ]
    }
   ],
   "source": [
    "result=tf.matmul(a1,a2)\n",
    "tf.print(result)"
   ]
  },
  {
   "cell_type": "code",
   "execution_count": null,
   "id": "37c568c4",
   "metadata": {},
   "outputs": [],
   "source": []
  }
 ],
 "metadata": {
  "kernelspec": {
   "display_name": "Python 3 (ipykernel)",
   "language": "python",
   "name": "python3"
  },
  "language_info": {
   "codemirror_mode": {
    "name": "ipython",
    "version": 3
   },
   "file_extension": ".py",
   "mimetype": "text/x-python",
   "name": "python",
   "nbconvert_exporter": "python",
   "pygments_lexer": "ipython3",
   "version": "3.7.13"
  }
 },
 "nbformat": 4,
 "nbformat_minor": 5
}
