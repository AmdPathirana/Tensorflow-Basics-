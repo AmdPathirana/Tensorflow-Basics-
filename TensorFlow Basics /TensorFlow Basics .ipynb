{
 "cells": [
  {
   "cell_type": "markdown",
   "id": "1f7bf222",
   "metadata": {},
   "source": [
    "# Tensorflow Basics "
   ]
  },
  {
   "cell_type": "code",
   "execution_count": 14,
   "id": "b036b710",
   "metadata": {},
   "outputs": [],
   "source": [
    "import tensorflow as tf "
   ]
  },
  {
   "cell_type": "code",
   "execution_count": 15,
   "id": "61aea0cf",
   "metadata": {},
   "outputs": [
    {
     "data": {
      "text/plain": [
       "'2.0.0'"
      ]
     },
     "execution_count": 15,
     "metadata": {},
     "output_type": "execute_result"
    }
   ],
   "source": [
    "tf.__version__"
   ]
  },
  {
   "cell_type": "code",
   "execution_count": 16,
   "id": "5acf83ea",
   "metadata": {},
   "outputs": [],
   "source": [
    "hello = tf.constant(\"HELLO\")\n",
    "world = tf.constant(\"WORLD\")"
   ]
  },
  {
   "cell_type": "code",
   "execution_count": 17,
   "id": "fb5206df",
   "metadata": {},
   "outputs": [
    {
     "data": {
      "text/plain": [
       "tensorflow.python.framework.ops.EagerTensor"
      ]
     },
     "execution_count": 17,
     "metadata": {},
     "output_type": "execute_result"
    }
   ],
   "source": [
    "type(hello)"
   ]
  },
  {
   "cell_type": "code",
   "execution_count": 18,
   "id": "e7b26807",
   "metadata": {},
   "outputs": [
    {
     "name": "stdout",
     "output_type": "stream",
     "text": [
      "HELLO\n"
     ]
    }
   ],
   "source": [
    "tf.print(hello)"
   ]
  },
  {
   "cell_type": "code",
   "execution_count": 19,
   "id": "be51ca7d",
   "metadata": {},
   "outputs": [
    {
     "name": "stdout",
     "output_type": "stream",
     "text": [
      "WORLD\n"
     ]
    }
   ],
   "source": [
    "tf.print(world)"
   ]
  },
  {
   "cell_type": "markdown",
   "id": "2d3faf5c",
   "metadata": {},
   "source": [
    "# Add two values "
   ]
  },
  {
   "cell_type": "code",
   "execution_count": 20,
   "id": "eba46ecd",
   "metadata": {},
   "outputs": [
    {
     "name": "stdout",
     "output_type": "stream",
     "text": [
      "value : 30\n"
     ]
    }
   ],
   "source": [
    "a=tf.constant(10)\n",
    "b=tf.constant(20)\n",
    "tf.print(\"value : {}\".format(a+b))"
   ]
  },
  {
   "cell_type": "markdown",
   "id": "325eee9f",
   "metadata": {},
   "source": [
    "# Create constant "
   ]
  },
  {
   "cell_type": "code",
   "execution_count": 21,
   "id": "cbd1fa6d",
   "metadata": {},
   "outputs": [],
   "source": [
    "const=tf.constant(10)"
   ]
  },
  {
   "cell_type": "markdown",
   "id": "2ca3fd44",
   "metadata": {},
   "source": [
    "# Create matrix "
   ]
  },
  {
   "cell_type": "markdown",
   "id": "7a6d7626",
   "metadata": {},
   "source": [
    "Create matrix 4*4 and fills witht the 10"
   ]
  },
  {
   "cell_type": "code",
   "execution_count": 22,
   "id": "50300148",
   "metadata": {},
   "outputs": [],
   "source": [
    "fill_mat=tf.fill((4,4),10)"
   ]
  },
  {
   "cell_type": "code",
   "execution_count": 23,
   "id": "bdfbc42c",
   "metadata": {},
   "outputs": [
    {
     "data": {
      "text/plain": [
       "<tf.Tensor: id=38, shape=(4, 4), dtype=int32, numpy=\n",
       "array([[10, 10, 10, 10],\n",
       "       [10, 10, 10, 10],\n",
       "       [10, 10, 10, 10],\n",
       "       [10, 10, 10, 10]], dtype=int32)>"
      ]
     },
     "execution_count": 23,
     "metadata": {},
     "output_type": "execute_result"
    }
   ],
   "source": [
    "fill_mat"
   ]
  },
  {
   "cell_type": "markdown",
   "id": "690d0ee8",
   "metadata": {},
   "source": [
    "Create 4*4 matirix and fill it with 0 "
   ]
  },
  {
   "cell_type": "code",
   "execution_count": 26,
   "id": "86571613",
   "metadata": {},
   "outputs": [
    {
     "data": {
      "text/plain": [
       "<tf.Tensor: id=44, shape=(4, 4), dtype=float32, numpy=\n",
       "array([[0., 0., 0., 0.],\n",
       "       [0., 0., 0., 0.],\n",
       "       [0., 0., 0., 0.],\n",
       "       [0., 0., 0., 0.]], dtype=float32)>"
      ]
     },
     "execution_count": 26,
     "metadata": {},
     "output_type": "execute_result"
    }
   ],
   "source": [
    "my_zeros=tf.zeros((4,4))\n",
    "my_zeros"
   ]
  },
  {
   "cell_type": "markdown",
   "id": "7317f4ae",
   "metadata": {},
   "source": [
    "Create 4*4 matrix with all 1 "
   ]
  },
  {
   "cell_type": "code",
   "execution_count": 27,
   "id": "925a6e1d",
   "metadata": {},
   "outputs": [
    {
     "data": {
      "text/plain": [
       "<tf.Tensor: id=47, shape=(4, 4), dtype=float32, numpy=\n",
       "array([[1., 1., 1., 1.],\n",
       "       [1., 1., 1., 1.],\n",
       "       [1., 1., 1., 1.],\n",
       "       [1., 1., 1., 1.]], dtype=float32)>"
      ]
     },
     "execution_count": 27,
     "metadata": {},
     "output_type": "execute_result"
    }
   ],
   "source": [
    "my_ones =tf.ones((4,4))\n",
    "my_ones"
   ]
  },
  {
   "cell_type": "markdown",
   "id": "0187c92c",
   "metadata": {},
   "source": [
    "# Random normal distribution "
   ]
  },
  {
   "cell_type": "code",
   "execution_count": 47,
   "id": "34f305a3",
   "metadata": {},
   "outputs": [
    {
     "name": "stdout",
     "output_type": "stream",
     "text": [
      "[[40.3418274 43.0806465 38.6448669 42.7617302 37.8302689 40.0101929]\n",
      " [35.506134 42.7404556 38.9363 46.0315208 41.0250473 42.1186485]\n",
      " [41.7019119 41.812851 38.0693169 40.3254585 45.3750343 38.046627]\n",
      " ...\n",
      " [39.7561111 34.6025543 42.9927559 41.6779976 42.984272 42.8481]\n",
      " [38.4859428 40.1022415 35.0236282 36.7194214 36.0107651 32.8739357]\n",
      " [40.4773674 42.7060623 35.6999283 38.7804871 41.0557289 41.3307571]]\n"
     ]
    }
   ],
   "source": [
    "my_randn=tf.random.normal((8,6), mean=40, stddev=3.0)\n",
    "tf.print(my_randn)"
   ]
  },
  {
   "cell_type": "markdown",
   "id": "9713ae8c",
   "metadata": {},
   "source": [
    "# Uniform distribution"
   ]
  },
  {
   "cell_type": "code",
   "execution_count": 51,
   "id": "bc6746a7",
   "metadata": {},
   "outputs": [
    {
     "name": "stdout",
     "output_type": "stream",
     "text": [
      "[[86.6326828 62.565567 10.4278326 ... 2.18994617 19.1872597 42.6892624]\n",
      " [47.182106 50.158596 68.7467422 ... 47.6826057 57.175518 38.3387794]\n",
      " [2.90710926 10.1862907 94.5250168 ... 70.4874268 67.2672043 1.90476179]\n",
      " ...\n",
      " [79.7474289 12.1656179 27.0978928 ... 55.4550896 99.4526596 13.7830496]\n",
      " [91.4599533 22.9728222 39.5845184 ... 24.3697052 55.6638374 72.8603745]\n",
      " [59.2011795 18.7090149 20.1454391 ... 32.6651077 91.7043457 40.477562]]\n"
     ]
    }
   ],
   "source": [
    "my_rand2=tf.random.uniform((9,9), minval=0, maxval=100)\n",
    "tf.print(my_rand2)"
   ]
  },
  {
   "cell_type": "markdown",
   "id": "bff28fdb",
   "metadata": {},
   "source": [
    "# Matrix multiplication "
   ]
  },
  {
   "cell_type": "code",
   "execution_count": 40,
   "id": "00825bed",
   "metadata": {},
   "outputs": [],
   "source": [
    "a1=tf.constant([[1,2],\n",
    "                [3,4]])"
   ]
  },
  {
   "cell_type": "code",
   "execution_count": 42,
   "id": "0377eb4c",
   "metadata": {},
   "outputs": [
    {
     "data": {
      "text/plain": [
       "TensorShape([2, 2])"
      ]
     },
     "execution_count": 42,
     "metadata": {},
     "output_type": "execute_result"
    }
   ],
   "source": [
    "a1.get_shape()"
   ]
  },
  {
   "cell_type": "code",
   "execution_count": 43,
   "id": "7b22bb48",
   "metadata": {},
   "outputs": [],
   "source": [
    "a2=tf.constant([[5,6], \n",
    "               [7,8]])"
   ]
  },
  {
   "cell_type": "code",
   "execution_count": 46,
   "id": "68847892",
   "metadata": {},
   "outputs": [
    {
     "name": "stdout",
     "output_type": "stream",
     "text": [
      "[[19 22]\n",
      " [43 50]]\n"
     ]
    }
   ],
   "source": [
    "result=tf.matmul(a1,a2)\n",
    "tf.print(result)"
   ]
  },
  {
   "cell_type": "code",
   "execution_count": null,
   "id": "6bbe547f",
   "metadata": {},
   "outputs": [],
   "source": []
  }
 ],
 "metadata": {
  "kernelspec": {
   "display_name": "Python 3 (ipykernel)",
   "language": "python",
   "name": "python3"
  },
  "language_info": {
   "codemirror_mode": {
    "name": "ipython",
    "version": 3
   },
   "file_extension": ".py",
   "mimetype": "text/x-python",
   "name": "python",
   "nbconvert_exporter": "python",
   "pygments_lexer": "ipython3",
   "version": "3.7.13"
  }
 },
 "nbformat": 4,
 "nbformat_minor": 5
}
