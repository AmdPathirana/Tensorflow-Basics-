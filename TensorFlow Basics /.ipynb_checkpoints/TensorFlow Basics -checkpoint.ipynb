{
 "cells": [
  {
   "cell_type": "markdown",
   "id": "7ae0ae9d",
   "metadata": {},
   "source": [
    "# Tensorflow Basics "
   ]
  },
  {
   "cell_type": "code",
   "execution_count": 14,
   "id": "9b4827e2",
   "metadata": {},
   "outputs": [],
   "source": [
    "import tensorflow as tf "
   ]
  },
  {
   "cell_type": "code",
   "execution_count": 15,
   "id": "2bc4d06f",
   "metadata": {},
   "outputs": [
    {
     "data": {
      "text/plain": [
       "'2.0.0'"
      ]
     },
     "execution_count": 15,
     "metadata": {},
     "output_type": "execute_result"
    }
   ],
   "source": [
    "tf.__version__"
   ]
  },
  {
   "cell_type": "code",
   "execution_count": 16,
   "id": "9494076e",
   "metadata": {},
   "outputs": [],
   "source": [
    "hello = tf.constant(\"HELLO\")\n",
    "world = tf.constant(\"WORLD\")"
   ]
  },
  {
   "cell_type": "code",
   "execution_count": 17,
   "id": "d8a9ee17",
   "metadata": {},
   "outputs": [
    {
     "data": {
      "text/plain": [
       "tensorflow.python.framework.ops.EagerTensor"
      ]
     },
     "execution_count": 17,
     "metadata": {},
     "output_type": "execute_result"
    }
   ],
   "source": [
    "type(hello)"
   ]
  },
  {
   "cell_type": "code",
   "execution_count": 18,
   "id": "f08717b9",
   "metadata": {},
   "outputs": [
    {
     "name": "stdout",
     "output_type": "stream",
     "text": [
      "HELLO\n"
     ]
    }
   ],
   "source": [
    "tf.print(hello)"
   ]
  },
  {
   "cell_type": "code",
   "execution_count": 19,
   "id": "e019711d",
   "metadata": {},
   "outputs": [
    {
     "name": "stdout",
     "output_type": "stream",
     "text": [
      "WORLD\n"
     ]
    }
   ],
   "source": [
    "tf.print(world)"
   ]
  },
  {
   "cell_type": "markdown",
   "id": "20a70436",
   "metadata": {},
   "source": [
    "# Add two values "
   ]
  },
  {
   "cell_type": "code",
   "execution_count": 20,
   "id": "43ccca2d",
   "metadata": {},
   "outputs": [
    {
     "name": "stdout",
     "output_type": "stream",
     "text": [
      "value : 30\n"
     ]
    }
   ],
   "source": [
    "a=tf.constant(10)\n",
    "b=tf.constant(20)\n",
    "tf.print(\"value : {}\".format(a+b))"
   ]
  },
  {
   "cell_type": "markdown",
   "id": "833d0794",
   "metadata": {},
   "source": [
    "# Create constant "
   ]
  },
  {
   "cell_type": "code",
   "execution_count": 21,
   "id": "ffc4fcbd",
   "metadata": {},
   "outputs": [],
   "source": [
    "const=tf.constant(10)"
   ]
  },
  {
   "cell_type": "markdown",
   "id": "6a8ad846",
   "metadata": {},
   "source": [
    "# Create matrix "
   ]
  },
  {
   "cell_type": "markdown",
   "id": "8b795f5f",
   "metadata": {},
   "source": [
    "Create matrix 4*4 and fills witht the 10"
   ]
  },
  {
   "cell_type": "code",
   "execution_count": 22,
   "id": "97eef7b9",
   "metadata": {},
   "outputs": [],
   "source": [
    "fill_mat=tf.fill((4,4),10)"
   ]
  },
  {
   "cell_type": "code",
   "execution_count": 23,
   "id": "ef429f17",
   "metadata": {},
   "outputs": [
    {
     "data": {
      "text/plain": [
       "<tf.Tensor: id=38, shape=(4, 4), dtype=int32, numpy=\n",
       "array([[10, 10, 10, 10],\n",
       "       [10, 10, 10, 10],\n",
       "       [10, 10, 10, 10],\n",
       "       [10, 10, 10, 10]], dtype=int32)>"
      ]
     },
     "execution_count": 23,
     "metadata": {},
     "output_type": "execute_result"
    }
   ],
   "source": [
    "fill_mat"
   ]
  },
  {
   "cell_type": "markdown",
   "id": "2101ada6",
   "metadata": {},
   "source": [
    "Create 4*4 matirix and fill it with 0 "
   ]
  },
  {
   "cell_type": "code",
   "execution_count": 26,
   "id": "790187dd",
   "metadata": {},
   "outputs": [
    {
     "data": {
      "text/plain": [
       "<tf.Tensor: id=44, shape=(4, 4), dtype=float32, numpy=\n",
       "array([[0., 0., 0., 0.],\n",
       "       [0., 0., 0., 0.],\n",
       "       [0., 0., 0., 0.],\n",
       "       [0., 0., 0., 0.]], dtype=float32)>"
      ]
     },
     "execution_count": 26,
     "metadata": {},
     "output_type": "execute_result"
    }
   ],
   "source": [
    "my_zeros=tf.zeros((4,4))\n",
    "my_zeros"
   ]
  },
  {
   "cell_type": "markdown",
   "id": "49a8d6af",
   "metadata": {},
   "source": [
    "Create 4*4 matrix with all 1 "
   ]
  },
  {
   "cell_type": "code",
   "execution_count": 27,
   "id": "6318dc7f",
   "metadata": {},
   "outputs": [
    {
     "data": {
      "text/plain": [
       "<tf.Tensor: id=47, shape=(4, 4), dtype=float32, numpy=\n",
       "array([[1., 1., 1., 1.],\n",
       "       [1., 1., 1., 1.],\n",
       "       [1., 1., 1., 1.],\n",
       "       [1., 1., 1., 1.]], dtype=float32)>"
      ]
     },
     "execution_count": 27,
     "metadata": {},
     "output_type": "execute_result"
    }
   ],
   "source": [
    "my_ones =tf.ones((4,4))\n",
    "my_ones"
   ]
  },
  {
   "cell_type": "code",
   "execution_count": null,
   "id": "c103e3ed",
   "metadata": {},
   "outputs": [],
   "source": []
  }
 ],
 "metadata": {
  "kernelspec": {
   "display_name": "Python 3 (ipykernel)",
   "language": "python",
   "name": "python3"
  },
  "language_info": {
   "codemirror_mode": {
    "name": "ipython",
    "version": 3
   },
   "file_extension": ".py",
   "mimetype": "text/x-python",
   "name": "python",
   "nbconvert_exporter": "python",
   "pygments_lexer": "ipython3",
   "version": "3.7.13"
  }
 },
 "nbformat": 4,
 "nbformat_minor": 5
}
