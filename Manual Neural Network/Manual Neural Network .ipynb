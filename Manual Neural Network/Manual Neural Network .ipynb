{
 "cells": [
  {
   "cell_type": "markdown",
   "id": "38c8efe7",
   "metadata": {},
   "source": [
    "# OOP and Super class "
   ]
  },
  {
   "cell_type": "code",
   "execution_count": 2,
   "id": "9404ea30",
   "metadata": {},
   "outputs": [],
   "source": [
    "class Simpleclass:\n",
    "    def __init__(self):\n",
    "        print(\"Simple Class\")\n",
    "    def yell(self):\n",
    "        print(\"Yelling\")"
   ]
  },
  {
   "cell_type": "code",
   "execution_count": 3,
   "id": "35fcc326",
   "metadata": {},
   "outputs": [],
   "source": [
    "class Extended(Simpleclass):\n",
    "    def __init__(self):\n",
    "        print(\"Extende!\")\n",
    "        super().__init__()"
   ]
  },
  {
   "cell_type": "code",
   "execution_count": 4,
   "id": "1282dcc7",
   "metadata": {},
   "outputs": [
    {
     "name": "stdout",
     "output_type": "stream",
     "text": [
      "Simple Class\n"
     ]
    }
   ],
   "source": [
    "s1=Simpleclass()"
   ]
  },
  {
   "cell_type": "code",
   "execution_count": 6,
   "id": "d29bfff9",
   "metadata": {},
   "outputs": [
    {
     "name": "stdout",
     "output_type": "stream",
     "text": [
      "Yelling\n"
     ]
    }
   ],
   "source": [
    "s1.yell()"
   ]
  },
  {
   "cell_type": "code",
   "execution_count": 5,
   "id": "2f2df2e6",
   "metadata": {},
   "outputs": [
    {
     "name": "stdout",
     "output_type": "stream",
     "text": [
      "Extende!\n",
      "Simple Class\n"
     ]
    }
   ],
   "source": [
    "e1=Extended()"
   ]
  },
  {
   "cell_type": "code",
   "execution_count": null,
   "id": "7b847989",
   "metadata": {},
   "outputs": [],
   "source": []
  }
 ],
 "metadata": {
  "kernelspec": {
   "display_name": "Python 3 (ipykernel)",
   "language": "python",
   "name": "python3"
  },
  "language_info": {
   "codemirror_mode": {
    "name": "ipython",
    "version": 3
   },
   "file_extension": ".py",
   "mimetype": "text/x-python",
   "name": "python",
   "nbconvert_exporter": "python",
   "pygments_lexer": "ipython3",
   "version": "3.7.13"
  }
 },
 "nbformat": 4,
 "nbformat_minor": 5
}
