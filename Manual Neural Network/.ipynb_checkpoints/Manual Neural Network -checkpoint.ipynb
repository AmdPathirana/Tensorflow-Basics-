{
 "cells": [
  {
   "cell_type": "code",
   "execution_count": 2,
   "id": "cee97570",
   "metadata": {},
   "outputs": [],
   "source": [
    "class Simpleclass:\n",
    "    def __init__(self):\n",
    "        print(\"Simple Class\")\n",
    "    def yell(self):\n",
    "        print(\"Yelling\")"
   ]
  },
  {
   "cell_type": "code",
   "execution_count": 3,
   "id": "ed40a54f",
   "metadata": {},
   "outputs": [],
   "source": [
    "class Extended(Simpleclass):\n",
    "    def __init__(self):\n",
    "        print(\"Extende!\")\n",
    "        super().__init__()"
   ]
  },
  {
   "cell_type": "code",
   "execution_count": 4,
   "id": "65762f4c",
   "metadata": {},
   "outputs": [
    {
     "name": "stdout",
     "output_type": "stream",
     "text": [
      "Simple Class\n"
     ]
    }
   ],
   "source": [
    "s1=Simpleclass()"
   ]
  },
  {
   "cell_type": "code",
   "execution_count": null,
   "id": "85624518",
   "metadata": {},
   "outputs": [],
   "source": []
  },
  {
   "cell_type": "code",
   "execution_count": 5,
   "id": "af06b8d7",
   "metadata": {},
   "outputs": [
    {
     "name": "stdout",
     "output_type": "stream",
     "text": [
      "Extende!\n",
      "Simple Class\n"
     ]
    }
   ],
   "source": [
    "e1=Extended()"
   ]
  },
  {
   "cell_type": "code",
   "execution_count": null,
   "id": "4d483b51",
   "metadata": {},
   "outputs": [],
   "source": []
  }
 ],
 "metadata": {
  "kernelspec": {
   "display_name": "Python 3 (ipykernel)",
   "language": "python",
   "name": "python3"
  },
  "language_info": {
   "codemirror_mode": {
    "name": "ipython",
    "version": 3
   },
   "file_extension": ".py",
   "mimetype": "text/x-python",
   "name": "python",
   "nbconvert_exporter": "python",
   "pygments_lexer": "ipython3",
   "version": "3.7.13"
  }
 },
 "nbformat": 4,
 "nbformat_minor": 5
}
